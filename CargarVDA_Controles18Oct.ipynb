{
  "nbformat": 4,
  "nbformat_minor": 0,
  "metadata": {
    "colab": {
      "provenance": [],
      "authorship_tag": "ABX9TyMVm+YS5Zn87IiYQDc2fOa3",
      "include_colab_link": true
    },
    "kernelspec": {
      "name": "python3",
      "display_name": "Python 3"
    },
    "language_info": {
      "name": "python"
    }
  },
  "cells": [
    {
      "cell_type": "markdown",
      "metadata": {
        "id": "view-in-github",
        "colab_type": "text"
      },
      "source": [
        "<a href=\"https://colab.research.google.com/github/ICMAG/Fuzzy/blob/main/CargarVDA_Controles18Oct.ipynb\" target=\"_parent\"><img src=\"https://colab.research.google.com/assets/colab-badge.svg\" alt=\"Open In Colab\"/></a>"
      ]
    },
    {
      "cell_type": "code",
      "execution_count": 33,
      "metadata": {
        "colab": {
          "base_uri": "https://localhost:8080/",
          "height": 845
        },
        "id": "xRC-4NmuEqJN",
        "outputId": "2b5b27ae-da03-4096-8d41-fa69f3c2c396"
      },
      "outputs": [
        {
          "output_type": "stream",
          "name": "stdout",
          "text": [
            "Drive already mounted at /content/gdrive; to attempt to forcibly remount, call drive.mount(\"/content/gdrive\", force_remount=True).\n",
            "'Alvarez M bd 1.txt'\t     'Garcia N bd 1.txt'     'Palena M bd 1'\n",
            "'Alvarez M bd 2.txt'\t     'Garcia N bd 2.txt'     'Palena M bd 2'\n",
            "'Alvarez M II bd 1.txt'      'Giai Levra 19-19.txt'  'Palena M bd 3'\n",
            "'Alvarez M II bd 2.txt'      'Giai Levra 1.txt'      'Penovi E bd 1'\n",
            " BENSA1.TXT\t\t     'Gomez A 1.txt'\t     'Penovi E bd 2'\n",
            " BENSA2.TXT\t\t     'Gomez A 2.txt'\t     'Regalini F bd 1.txt'\n",
            " BENSA3.TXT\t\t     'Gomez A 3.txt'\t     'Regalini F bd 2.txt'\n",
            "'CargarVDA Controles.ipynb'  'Martin 1.txt'\t     'Roca N Bd 1.txt'\n",
            "'Cepeda 1.txt'\t\t     'Martin 2.txt'\t     'Roca N bd 2.txt'\n",
            "'Cepeda 2.txt'\t\t     'Martin 3.txt'\t     'Santillan T bd 1.txt'\n",
            "'Cepeda 3.txt'\t\t     'Medina D bd 1.txt'     'Santillan T bd 2.txt'\n",
            "'Fosco A bd 1.txt'\t     'Medina D bd 2.txt'     'Torres N bd 1.txt'\n",
            "'Fosco A bd 2.txt'\t     'Menna E bd 1'\t     'Torres N bd 2.txt'\n",
            "'Fosco A bd 3.txt'\t     'Menna E bd 2'\t     'Yaben M bd 1'\n",
            "'Fosco A bd 4.txt'\t     'Nieto 1.txt'\t     'Yaben M bd 2'\n",
            "'Garcia Emanuel 1.txt'\t     'Nieto 2.txt'\n",
            "'Garcia Emanuel 2.txt'\t     'Nieto 3.txt'\n",
            "/content/gdrive/My Drive/paper/VDA/TXT Controles\n",
            "['Giai Levra 1.txt', 'Giai Levra 19-19.txt', 'Nieto 1.txt', 'Nieto 2.txt', 'Nieto 3.txt', 'BENSA1.TXT', 'BENSA2.TXT', 'BENSA3.TXT', 'Cepeda 1.txt', 'Cepeda 2.txt', 'Cepeda 3.txt', 'Gomez A 1.txt', 'Gomez A 2.txt', 'Gomez A 3.txt', 'Garcia Emanuel 1.txt', 'Garcia Emanuel 2.txt', 'Martin 1.txt', 'Martin 2.txt', 'Martin 3.txt', 'Yaben M bd 1', 'Yaben M bd 2', 'Palena M bd 1', 'Palena M bd 2', 'Palena M bd 3', 'Penovi E bd 1', 'Penovi E bd 2', 'Menna E bd 1', 'Menna E bd 2', 'Regalini F bd 1.txt', 'Regalini F bd 2.txt', 'Garcia N bd 1.txt', 'Garcia N bd 2.txt', 'Santillan T bd 1.txt', 'Santillan T bd 2.txt', 'Alvarez M bd 1.txt', 'Alvarez M bd 2.txt', 'Alvarez M II bd 1.txt', 'Alvarez M II bd 2.txt', 'Fosco A bd 1.txt', 'Fosco A bd 2.txt', 'Fosco A bd 3.txt', 'Fosco A bd 4.txt', 'Roca N Bd 1.txt', 'Roca N bd 2.txt', 'Medina D bd 1.txt', 'Medina D bd 2.txt', 'Torres N bd 1.txt', 'Torres N bd 2.txt', 'CargarVDA Controles.ipynb']\n",
            "        0\n",
            "0     447\n",
            "1     444\n",
            "2     440\n",
            "3     438\n",
            "4     436\n",
            "...   ...\n",
            "6815  667\n",
            "6816  667\n",
            "6817  666\n",
            "6818  663\n",
            "6819  658\n",
            "\n",
            "[6820 rows x 1 columns]\n"
          ]
        },
        {
          "output_type": "error",
          "ename": "TypeError",
          "evalue": "ignored",
          "traceback": [
            "\u001b[0;31m---------------------------------------------------------------------------\u001b[0m",
            "\u001b[0;31mTypeError\u001b[0m                                 Traceback (most recent call last)",
            "\u001b[0;32m<ipython-input-33-66331499d9c8>\u001b[0m in \u001b[0;36m<module>\u001b[0;34m\u001b[0m\n\u001b[1;32m     19\u001b[0m \u001b[0mdf\u001b[0m\u001b[0;34m.\u001b[0m\u001b[0mhead\u001b[0m\u001b[0;34m(\u001b[0m\u001b[0;34m)\u001b[0m\u001b[0;34m\u001b[0m\u001b[0;34m\u001b[0m\u001b[0m\n\u001b[1;32m     20\u001b[0m \u001b[0mdf\u001b[0m\u001b[0;34m.\u001b[0m\u001b[0mdescribe\u001b[0m\u001b[0;34m\u001b[0m\u001b[0;34m\u001b[0m\u001b[0m\n\u001b[0;32m---> 21\u001b[0;31m \u001b[0mnewpath\u001b[0m \u001b[0;34m=\u001b[0m \u001b[0mControles\u001b[0m \u001b[0;34m+\u001b[0m \u001b[0;34m\"/\"\u001b[0m \u001b[0;34m+\u001b[0m \u001b[0mfn\u001b[0m\u001b[0;34m\u001b[0m\u001b[0;34m\u001b[0m\u001b[0m\n\u001b[0m\u001b[1;32m     22\u001b[0m \u001b[0mdf\u001b[0m \u001b[0;34m=\u001b[0m \u001b[0mpd\u001b[0m\u001b[0;34m.\u001b[0m\u001b[0mread_csv\u001b[0m\u001b[0;34m(\u001b[0m\u001b[0mnewpath\u001b[0m\u001b[0;34m,\u001b[0m \u001b[0mskiprows\u001b[0m\u001b[0;34m=\u001b[0m\u001b[0;36m8\u001b[0m\u001b[0;34m,\u001b[0m \u001b[0mheader\u001b[0m\u001b[0;34m=\u001b[0m\u001b[0;32mNone\u001b[0m\u001b[0;34m)\u001b[0m\u001b[0;34m\u001b[0m\u001b[0;34m\u001b[0m\u001b[0m\n\u001b[1;32m     23\u001b[0m \u001b[0;31m# newpath = pd.concat([Controles,\"/\",fn])\u001b[0m\u001b[0;34m\u001b[0m\u001b[0;34m\u001b[0m\u001b[0;34m\u001b[0m\u001b[0m\n",
            "\u001b[0;31mTypeError\u001b[0m: can only concatenate str (not \"list\") to str"
          ]
        }
      ],
      "source": [
        "from google.colab import drive\n",
        "drive.mount('/content/gdrive')\n",
        "import pandas as pd\n",
        "import cv2\n",
        "import os\n",
        "import numpy as np\n",
        "from matplotlib import pyplot as plt\n",
        "!ls \"/content/gdrive/My Drive/paper/VDA/TXT Controles/\"\n",
        "%cd \"/content/gdrive/My Drive/paper/VDA/TXT Controles/\"\n",
        "import os \n",
        "path = \"/content/gdrive/My Drive/paper/VDA/TXT Controles/\"\n",
        "os.chdir(path) \n",
        "Controles=\"/content/gdrive/My Drive/paper/VDA/TXT Controles/\"\n",
        "fn = os.listdir(Controles)\n",
        "print(fn)\n",
        "todos = np.zeros((200)) \n",
        "df = pd.read_csv('Torres N bd 2.txt', skiprows=8, header=None)\n",
        "t = pd.DataFrame(df, columns =[\"A\", \"B\"])\n",
        "print(df)\n",
        "df.head()\n",
        "df.describe\n",
        "newpath = Controles + \"/\" + fn\n",
        "df = pd.read_csv(newpath, skiprows=8, header=None)\n",
        "# newpath = pd.concat([Controles,\"/\",fn])\n",
        "# for fn in fn:\n",
        "#print(fn)\n",
        "#   newpath = Controles + \"/\" + fn\n",
        "#   df = pd.read_csv(newpath, skiprows=8, header=None)\n",
        "#   print (newpath)\n",
        "# # for fn in fn:\n",
        "# df = pd.read_csv(Controles + \"/\" + 'Torres N bd 2.txt', skiprows=8, header=None)\n",
        "# df.head()\n",
        "# df.describe\n",
        "# for fn in fn:\n",
        "# print(fn)\n",
        "# newpath = Controles + \"/\" + fn\n",
        "# print(newpath)\n",
        "# dfaux = pd.read_csv(newpath, skiprows=8, header=None)\n",
        "# for fn in fn:\n",
        "#   newpath = Controles + \"/\" + fn\n",
        "#   dfaux = pd.read_csv(newpath, skiprows=8, header=None)\n",
        "    # pd.concat([dfaux,dfaux])\n",
        "    # df.head()\n",
        "    # df.describe\n",
        "\n",
        "  # todos = np.array(todos,df)\n",
        "# print(df)\n",
        "# !wget \n",
        "# !unzi\n",
        "# !wget \n",
        "# !unzip\n",
        "\n",
        "\n"
      ]
    },
    {
      "cell_type": "markdown",
      "source": [
        "https://joserzapata.github.io/courses/python-ciencia-datos/pandas/\n",
        "https://www.codigopiton.com/como-crear-un-dataframe-con-pandas-y-python/\n",
        "https://adamofig.medium.com/dataframe-con-pandas-la-gu%C3%ADa-esencial-del-homo-sapiens-517cb2ccbb87\n"
      ],
      "metadata": {
        "id": "IGnJx1nIhI_5"
      }
    }
  ]
}