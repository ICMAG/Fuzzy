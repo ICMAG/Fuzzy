{
  "cells": [
    {
      "cell_type": "markdown",
      "metadata": {
        "id": "view-in-github",
        "colab_type": "text"
      },
      "source": [
        "<a href=\"https://colab.research.google.com/github/ICMAG/Fuzzy/blob/main/KerasLSTM.ipynb\" target=\"_parent\"><img src=\"https://colab.research.google.com/assets/colab-badge.svg\" alt=\"Open In Colab\"/></a>"
      ]
    },
    {
      "cell_type": "code",
      "execution_count": null,
      "metadata": {
        "id": "ufovKlinoM-j"
      },
      "outputs": [],
      "source": []
    },
    {
      "cell_type": "markdown",
      "metadata": {
        "id": "6vofA6jmoxke"
      },
      "source": [
        "A temperature-forecasting example\n",
        "Throughout this chapter, all of our code examples will target a single problem: predicting the temperature 24 hours in the future, given a timeseries of hourly measurements of quantities such as atmospheric pressure and humidity, recorded over the\n",
        "recent past by a set of sensors on the roof of a building. As you will see, it’s a fairly challenging problem!\n",
        " We’ll use this temperature-forecasting task to highlight what makes timeseries data\n",
        "fundamentally different from the kinds of datasets you’ve encountered so far. You’ll\n",
        "282 CHAPTER 10 Deep learning for timeseries\n",
        "see that densely connected networks and convolutional networks aren’t well-equipped\n",
        "to deal with this kind of dataset, while a different kind of machine learning technique—recurrent neural networks (RNNs)—really shines on this type of problem.\n",
        " We’ll work with a weather timeseries dataset recorded at the weather station at the\n",
        "Max Planck Institute for Biogeochemistry in Jena, Germany.1\n",
        " In this dataset, 14 different quantities (such as temperature, pressure, humidity, wind direction, and so on)\n",
        "were recorded every 10 minutes over several years. The original data goes back to\n",
        "2003, but the subset of the data we’ll download is limited to 2009–2016."
      ]
    },
    {
      "cell_type": "code",
      "execution_count": 3,
      "metadata": {
        "colab": {
          "base_uri": "https://localhost:8080/"
        },
        "id": "74GfvMJkozc4",
        "outputId": "44d250a0-7ade-4285-b0dd-d63e5331cc01"
      },
      "outputs": [
        {
          "output_type": "stream",
          "name": "stdout",
          "text": [
            "--2022-12-01 16:35:25--  https://s3.amazonaws.com/keras-datasets/jena_climate_2009_2016.csv.zip\n",
            "Resolving s3.amazonaws.com (s3.amazonaws.com)... 52.217.234.56, 52.217.129.200, 52.216.58.248, ...\n",
            "Connecting to s3.amazonaws.com (s3.amazonaws.com)|52.217.234.56|:443... connected.\n",
            "HTTP request sent, awaiting response... 200 OK\n",
            "Length: 13565642 (13M) [application/zip]\n",
            "Saving to: ‘jena_climate_2009_2016.csv.zip’\n",
            "\n",
            "jena_climate_2009_2 100%[===================>]  12.94M  13.9MB/s    in 0.9s    \n",
            "\n",
            "2022-12-01 16:35:27 (13.9 MB/s) - ‘jena_climate_2009_2016.csv.zip’ saved [13565642/13565642]\n",
            "\n",
            "Archive:  jena_climate_2009_2016.csv.zip\n",
            "  inflating: jena_climate_2009_2016.csv  \n",
            "  inflating: __MACOSX/._jena_climate_2009_2016.csv  \n"
          ]
        }
      ],
      "source": [
        "!wget https://s3.amazonaws.com/keras-datasets/jena_climate_2009_2016.csv.zip\n",
        "!unzip jena_climate_2009_2016.csv.zip"
      ]
    },
    {
      "cell_type": "markdown",
      "metadata": {
        "id": "dTaAYFRdo8Wg"
      },
      "source": [
        "Cargar y analizar el Data SET"
      ]
    },
    {
      "cell_type": "code",
      "execution_count": 4,
      "metadata": {
        "colab": {
          "base_uri": "https://localhost:8080/"
        },
        "id": "QOC2y7rTpDub",
        "outputId": "ce27b88b-9d69-4ba7-b00f-d4260323d973"
      },
      "outputs": [
        {
          "output_type": "stream",
          "name": "stdout",
          "text": [
            "['\"Date Time\"', '\"p (mbar)\"', '\"T (degC)\"', '\"Tpot (K)\"', '\"Tdew (degC)\"', '\"rh (%)\"', '\"VPmax (mbar)\"', '\"VPact (mbar)\"', '\"VPdef (mbar)\"', '\"sh (g/kg)\"', '\"H2OC (mmol/mol)\"', '\"rho (g/m**3)\"', '\"wv (m/s)\"', '\"max. wv (m/s)\"', '\"wd (deg)\"']\n",
            "420451\n"
          ]
        }
      ],
      "source": [
        "import os\n",
        "fname = os.path.join(\"jena_climate_2009_2016.csv\")\n",
        "with open(fname) as f:\n",
        " data = f.read()\n",
        "lines = data.split(\"\\n\")\n",
        "header = lines[0].split(\",\")\n",
        "lines = lines[1:]\n",
        "print(header)\n",
        "print(len(lines))\n"
      ]
    },
    {
      "cell_type": "markdown",
      "metadata": {
        "id": "vfN4-vyxpxHG"
      },
      "source": [
        "Now, convert all 420,551 lines of data into NumPy arrays: one array for the temperature (in degrees Celsius), and another one for the rest of the data—the features we\n",
        "will use to predict future temperatures. Note that we discard the “Date Time” column.\n",
        "\n"
      ]
    },
    {
      "cell_type": "code",
      "execution_count": 5,
      "metadata": {
        "colab": {
          "base_uri": "https://localhost:8080/",
          "height": 320
        },
        "id": "KQ0Z4ebdp0PT",
        "outputId": "499ac3e9-bb5b-4f93-ac9f-f0d5f6601a51"
      },
      "outputs": [
        {
          "output_type": "stream",
          "name": "stdout",
          "text": [
            "(420451,)\n",
            "<memory at 0x7fdf33bf4d00>\n",
            "(420451, 14)\n"
          ]
        },
        {
          "output_type": "display_data",
          "data": {
            "text/plain": [
              "<Figure size 432x288 with 1 Axes>"
            ],
            "image/png": "[encoded data removed]"
          },
          "metadata": {
            "needs_background": "light"
          }
        }
      ],
      "source": [
        "import numpy as np\n",
        "temperature = np.zeros((len(lines),))\n",
        "raw_data = np.zeros((len(lines), len(header) - 1))\n",
        "for i, line in enumerate(lines):\n",
        "  values = [float(x) for x in line.split(\",\")[1:]]\n",
        "  temperature[i] = values[1]\n",
        "  raw_data[i, :] = values[:]\n",
        "from matplotlib import pyplot as plt\n",
        "plt.plot(range(len(temperature)), temperature)\n",
        "plt.plot(range(1440), temperature[:1440])\n",
        "print(temperature.shape)\n",
        "print(temperature.data)\n",
        "print(raw_data.shape)\n"
      ]
    },
    {
      "cell_type": "markdown",
      "metadata": {
        "id": "813a2P_6sWLQ"
      },
      "source": [
        "On this plot, you can see daily periodicity, especially for the last 4 days. Also note that\n",
        "this 10-day period must be coming from a fairly cold winter month.\n",
        "With our dataset, if you were trying to predict average temperature for the next month\n",
        "given a few months of past data, the problem would be easy, due to the reliable yearscale periodicity of the data. But looking at the data over a scale of days, the temperature\n",
        "looks a lot more chaotic. Is this timeseries predictable at a daily scale? Let’s find out.\n",
        "In all our experiments, we’ll use the first 50% of the data for training, the following 25% for validation, and the last 25% for testing. When working with timeseries\n",
        "data, it’s important to use validation and test data that is more recent than the training data, because you’re trying to predict the future given the past, not the reverse,\n",
        "and your validation/test splits should reflect that. Some problems happen to be considerably simpler if you reverse the time axis!\n",
        ">>> num_train_samples = int(0.5 * len(raw_data))\n",
        ">>> num_val_samples = int(0.25 * len(raw_data))\n",
        ">>> num_test_samples = len(raw_data) - num_train_samples - num_val_samples\n",
        "Always look for periodicity in your data\n",
        "Periodicity over multiple timescales is an important and very common property of\n",
        "timeseries data. Whether you’re looking at the weather, mall parking occupancy, traffic to a website, sales of a grocery store, or steps logged in a fitness tracker, you’ll\n",
        "see daily cycles and yearly cycles (human-generated data also tends to feature\n",
        "weekly cycles). When exploring your data, make sure to look for these patterns."
      ]
    },
    {
      "cell_type": "markdown",
      "metadata": {
        "id": "1C9kDk2Xsdoy"
      },
      "source": [
        "Listing 10.5 Computing the number of samples we’ll use for each data split\n"
      ]
    },
    {
      "cell_type": "code",
      "execution_count": 6,
      "metadata": {
        "colab": {
          "base_uri": "https://localhost:8080/"
        },
        "id": "sDs9K0hXsjG5",
        "outputId": "2f637ab9-8d9d-4a65-d58c-ebd5d6a269a9"
      },
      "outputs": [
        {
          "output_type": "stream",
          "name": "stdout",
          "text": [
            "num_train_samples: 210225\n",
            "num_val_samples: 105112\n",
            "num_test_samples: 105114\n"
          ]
        }
      ],
      "source": [
        "num_train_samples = int(0.5 * len(raw_data))\n",
        "num_val_samples = int(0.25 * len(raw_data))\n",
        "num_test_samples = len(raw_data) - num_train_samples - num_val_samples\n",
        "print(\"num_train_samples:\", num_train_samples)\n",
        "print(\"num_val_samples:\", num_val_samples)\n",
        "print(\"num_test_samples:\", num_test_samples)"
      ]
    },
    {
      "cell_type": "markdown",
      "metadata": {
        "id": "c0LRxqmOs8Pf"
      },
      "source": [
        "Preparing the data\n",
        "The exact formulation of the problem will be as follows: given data covering the previous five days and sampled once per hour, can we predict the temperature in 24 hours?\n",
        "First, let’s preprocess the data to a format a neural network can ingest. This is\n",
        "easy: the data is already numerical, so you don’t need to do any vectorization. But each timeseries in the data is on a different scale (for example, atmospheric pressure, measured in mbar, is around 1,000, while H2OC, measured in millimoles per mole, is around 3). We’ll normalize each timeseries independently so that they all take small values on a similar scale. We’re going to use the first 210,225 timesteps as training data, so we’ll compute the mean and standard deviation only on this fraction of the data.\n",
        "Next, let’s create a Dataset object that yields batches of data from the past five days along with a target temperature 24 hours in the future. Because the samples in the dataset are highly redundant (sample N and sample N + 1 will have most of their timesteps in common), it would be wasteful to explicitly allocate memory for every sample. Instead, we’ll generate the samples on the fly while only keeping in memory the original raw_data and temperature arrays, and nothing more. We could easily write a Python generator to do this, but there’s a built-in dataset utility in Keras that does just that (timeseries_dataset_from_array()), so we can save ourselves some work by using it. You can generally use it for any kind of timeseries forecasting task. Understanding timeseries_dataset_from_array() To understand what timeseries_dataset_from_array() does, let’s look at a simple example. The general idea is that you provide an array of timeseries data (the data argument , and timeseries_dataset_from_array() gives you windows extracted from the original timeseries (we’ll call them “sequences”). For example, if you use data = [0 1 2 3 4 5 6] and sequence_length=3, then timeseries_dataset_from_array() will generate the following samples: [0 1 2], [1 2 3], [2 3 4], [3 4 5], [4 5 6]. (continued) You can also pass a targets argument (an array) to timeseries_dataset_ from_array(). The first entry of the targets array should match the desired target for the first sequence that will be generated from the data array. So if you’re doing timeseries forecasting, targets should be the same array as data, offset by some amount. For instance, with data = [0 1 2 3 4 5 6 …] and sequence_length=3, you could create a dataset to predict the next step in the series by passing targets = [3 4 5 6 …]. Let’s try it:\n",
        "import numpy as np\n",
        "from tensorflow import keras\n",
        "int_sequence = np.arange(10)\n",
        "dummy_dataset = keras.utils.timeseries_dataset_from_array(\n",
        "data=int_sequence[:-3],\n",
        "targets=int_sequence[3:],\n",
        "sequence_length=3,\n",
        "batch_size=2, )\n",
        "for inputs, targets in dummy_dataset:\n",
        "for i in range(inputs.shape[0]):\n",
        "print([int(x) for x in inputs[i]], int(targets[i]))\n",
        "This bit of code prints the following results:\n",
        "[0, 1, 2] 3\n",
        "[1, 2, 3] 4\n",
        "[2, 3, 4] 5\n",
        "[3, 4, 5] 6\n",
        "[4, 5, 6] 7\n",
        "Generate an array\n",
        "of sorted integers\n",
        "from 0 to 9.\n",
        "The sequences\n",
        "we generate will\n",
        "be sampled from\n",
        "[0 1 2 3 4 5 6].\n",
        "The target for the sequence that\n",
        "starts at data[N] will be data[N + 3].\n",
        "The sequences wil"
      ]
    },
    {
      "cell_type": "code",
      "execution_count": 7,
      "metadata": {
        "id": "Ng8H-5h7s-OP"
      },
      "outputs": [],
      "source": [
        "mean = raw_data[:num_train_samples].mean(axis=0)\n",
        "raw_data -= mean\n",
        "std = raw_data[:num_train_samples].std(axis=0)\n",
        "raw_data /= std"
      ]
    },
    {
      "cell_type": "markdown",
      "metadata": {
        "id": "uGZ1Uo6NwVQr"
      },
      "source": [
        "Listing 10.7 Instantiating datasets for training, validation, and testing\n"
      ]
    },
    {
      "cell_type": "code",
      "execution_count": 8,
      "metadata": {
        "id": "YllkS84FwXbI"
      },
      "outputs": [],
      "source": [
        "import tensorflow as tf\n",
        "from tensorflow import keras\n",
        "sampling_rate = 6\n",
        "sequence_length = 120\n",
        "delay = sampling_rate * (sequence_length + 24 - 1)\n",
        "batch_size = 256\n",
        "train_dataset = keras.utils.timeseries_dataset_from_array(raw_data[:-delay], targets = temperature[delay:], sampling_rate=sampling_rate, sequence_length=sequence_length, shuffle=True, batch_size=batch_size, start_index=0, end_index=num_train_samples)\n",
        "val_dataset = keras.utils.timeseries_dataset_from_array(\n",
        "    raw_data[:-delay],\n",
        "    targets=temperature[delay:],\n",
        "    sampling_rate=sampling_rate,\n",
        "    sequence_length=sequence_length,\n",
        "    shuffle=True,\n",
        "    batch_size=batch_size,\n",
        "    start_index=num_train_samples,\n",
        "    end_index=num_train_samples + num_val_samples)\n",
        "test_dataset = keras.utils.timeseries_dataset_from_array(\n",
        "    raw_data[:-delay],\n",
        "    targets=temperature[delay:],\n",
        "    sampling_rate=sampling_rate,\n",
        "    sequence_length=sequence_length,\n",
        "    shuffle=True,\n",
        "    batch_size=batch_size,\n",
        "    start_index=num_train_samples + num_val_samples)"
      ]
    },
    {
      "cell_type": "markdown",
      "metadata": {
        "id": "g6_9joF7wfB_"
      },
      "source": [
        "Each dataset yields a tuple (samples, targets), where samples is a batch of 256 samples, each containing 120 consecutive hours of input data, and targets is the corresponding array of 256 target temperatures. Note that the samples are randomly\n",
        "shuffled, so two consecutive sequences in a batch (like samples[0] and samples[1])\n",
        "aren’t necessarily temporally close.\n",
        "Listing 10.8 Inspecting the output of one of our datasets\n"
      ]
    },
    {
      "cell_type": "code",
      "execution_count": 9,
      "metadata": {
        "colab": {
          "base_uri": "https://localhost:8080/"
        },
        "id": "bdV3ayTxwnrw",
        "outputId": "251dbe72-a810-4be0-c8e0-047beb27aef1"
      },
      "outputs": [
        {
          "output_type": "stream",
          "name": "stdout",
          "text": [
            "samples shape: (256, 120, 14)\n",
            "targets shape: (256,)\n"
          ]
        }
      ],
      "source": [
        "for samples, targets in train_dataset:\n",
        "  print(\"samples shape:\", samples.shape)\n",
        "  print(\"targets shape:\", targets.shape)\n",
        "  break\n",
        "  np.mean(np.abs(preds - targets))\n",
        "# def evaluate_naive_method(dataset)\n",
        "#   total_abs_err = 0\n",
        "#   samples_seen = 0\n",
        "# for samples, targets in dataset:\n",
        "# preds = samples[:, -1, 1] * std[1] + mean[1]\n",
        "# total_abs_err += np.sum(np.abs(preds - targets))\n",
        "# samples_seen += samples.shape[0]\n",
        "# return total_abs_err / samples_seen\n",
        "# print(f\"Validation MAE: {evaluate_naive_method(val_dataset):.2f}\")\n",
        "# print(f\"Test MAE: {evaluate_naive_method(test_dataset):.2f}\")"
      ]
    },
    {
      "cell_type": "markdown",
      "metadata": {
        "id": "8ASLjyU-4z4X"
      },
      "source": [
        "This common-sense baseline achieves a validation MAE of 2.44 degrees Celsius and a test MAE of 2.62 degrees Celsius. So if you always assume that the temperature 24 hours in the future will be the same as it is now, you will be off by two and a half degrees on average. It’s not too bad, but you probably won’t launch a weather forecasting service based on this heuristic. Now the game is to use your knowledge of deep learning to do better. Listing 10.9 Computing the common-sense baseline MAE\n",
        "\n"
      ]
    },
    {
      "cell_type": "code",
      "execution_count": 10,
      "metadata": {
        "colab": {
          "base_uri": "https://localhost:8080/",
          "height": 698
        },
        "id": "QjktLII45If-",
        "outputId": "9c222188-1511-4ba9-cbce-68d80ea3a28a"
      },
      "outputs": [
        {
          "output_type": "stream",
          "name": "stdout",
          "text": [
            "Epoch 1/10\n",
            "819/819 [==============================] - 45s 51ms/step - loss: 13.2111 - mae: 2.8136 - val_loss: 10.3561 - val_mae: 2.5329\n",
            "Epoch 2/10\n",
            "819/819 [==============================] - 42s 51ms/step - loss: 9.2283 - mae: 2.3962 - val_loss: 10.1643 - val_mae: 2.5094\n",
            "Epoch 3/10\n",
            "819/819 [==============================] - 44s 53ms/step - loss: 8.3878 - mae: 2.2832 - val_loss: 11.5998 - val_mae: 2.6867\n",
            "Epoch 4/10\n",
            "819/819 [==============================] - 47s 57ms/step - loss: 7.9110 - mae: 2.2181 - val_loss: 11.1901 - val_mae: 2.6515\n",
            "Epoch 5/10\n",
            "819/819 [==============================] - 40s 49ms/step - loss: 7.5702 - mae: 2.1702 - val_loss: 10.4958 - val_mae: 2.5586\n",
            "Epoch 6/10\n",
            "819/819 [==============================] - 41s 50ms/step - loss: 7.2988 - mae: 2.1341 - val_loss: 10.5330 - val_mae: 2.5639\n",
            "Epoch 7/10\n",
            "819/819 [==============================] - 43s 52ms/step - loss: 7.0882 - mae: 2.1036 - val_loss: 10.6764 - val_mae: 2.5866\n",
            "Epoch 8/10\n",
            "819/819 [==============================] - 43s 53ms/step - loss: 6.9049 - mae: 2.0746 - val_loss: 11.8745 - val_mae: 2.7351\n",
            "Epoch 9/10\n",
            "819/819 [==============================] - 44s 53ms/step - loss: 6.7556 - mae: 2.0539 - val_loss: 11.0491 - val_mae: 2.6241\n",
            "Epoch 10/10\n",
            "819/819 [==============================] - 42s 51ms/step - loss: 6.6354 - mae: 2.0359 - val_loss: 12.8261 - val_mae: 2.8652\n",
            "405/405 [==============================] - 14s 33ms/step - loss: 10.8032 - mae: 2.5790\n",
            "Test MAE: 2.58\n"
          ]
        },
        {
          "output_type": "display_data",
          "data": {
            "text/plain": [
              "<Figure size 432x288 with 1 Axes>"
            ],
            "image/png": "[encoded data removed]"
          },
          "metadata": {
            "needs_background": "light"
          }
        },
        {
          "output_type": "stream",
          "name": "stdout",
          "text": [
            "(None, 120, 14)\n",
            "(None, 1)\n"
          ]
        }
      ],
      "source": [
        "from tensorflow import keras\n",
        "from tensorflow.keras import layers\n",
        "inputs = keras.Input(shape=(sequence_length, raw_data.shape[-1]))\n",
        "x = layers.Flatten()(inputs)\n",
        "x = layers.Dense(16, activation=\"relu\")(x)\n",
        "outputs = layers.Dense(1)(x)\n",
        "model = keras.Model(inputs, outputs)\n",
        "callbacks = [\n",
        "keras.callbacks.ModelCheckpoint(\"jena_dense.keras\",\n",
        "save_best_only=True)\n",
        "]\n",
        "model.compile(optimizer=\"rmsprop\", loss=\"mse\", metrics=[\"mae\"])\n",
        "history = model.fit(train_dataset,\n",
        "epochs=10,\n",
        "validation_data=val_dataset,\n",
        "callbacks=callbacks)\n",
        "model = keras.models.load_model(\"jena_dense.keras\")\n",
        "print(f\"Test MAE: {model.evaluate(test_dataset)[1]:.2f}\")\n",
        "import matplotlib.pyplot as plt\n",
        "loss = history.history[\"mae\"]\n",
        "val_loss = history.history[\"val_mae\"]\n",
        "epochs = range(1, len(loss) + 1)\n",
        "plt.figure()\n",
        "plt.plot(epochs, loss, \"bo\", label=\"Training MAE\")\n",
        "plt.plot(epochs, val_loss, \"b\", label=\"Validation MAE\")\n",
        "plt.title(\"Training and validation MAE\")\n",
        "plt.legend()\n",
        "plt.show()\n",
        "print(inputs.shape)\n",
        "print(outputs.shape)"
      ]
    },
    {
      "cell_type": "markdown",
      "metadata": {
        "id": "C0v-xtbUHmZ8"
      },
      "source": [
        "10.2.4 Let’s try a 1D convolutional model\n",
        "Speaking of leveraging the right architecture priors, since our input sequences feature daily cycles, perhaps a convolutional model could work. A temporal convnet could reuse the same representations across different days, much like a spatial convnet can reuse the same representations across different locations in an image.\n",
        "You already know about the Conv2D and SeparableConv2D layers, which see their\n",
        "inputs through small windows that swipe across 2D grids. There are also 1D and even Figure 10.3 Training and validation MAE on the Jena temperatureforecasting task with a simple, densely connected networkA temperature-forecasting example 291 3D versions of these layers: Conv1D, SeparableConv1D, and Conv3D.2 The Conv1D layer relies on 1D windows that slide across input sequences, and the Conv3D layer relies on cubic windows that slide across input volumes.\n",
        "You can thus build 1D convnets, strictly analogous to 2D convnets. They’re a great fit for any sequence data that follows the translation invariance assumption (meaning that if you slide a window over the sequence, the content of the window should follow the same properties independently of the location of the window).\n",
        "Let’s try one on our temperature-forecasting problem. We’ll pick an initial window length of 24, so that we look at 24 hours of data at a time (one cycle). As we downsample the sequences (via MaxPooling1D layers), we’ll reduce the  window size accordingly:"
      ]
    },
    {
      "cell_type": "code",
      "execution_count": 11,
      "metadata": {
        "colab": {
          "base_uri": "https://localhost:8080/"
        },
        "id": "kV3d6xD2Hn2W",
        "outputId": "1eda183f-7836-4975-9268-275de5d693f1"
      },
      "outputs": [
        {
          "output_type": "stream",
          "name": "stdout",
          "text": [
            "Epoch 1/10\n",
            "819/819 [==============================] - 49s 51ms/step - loss: 22.4980 - mae: 3.7132 - val_loss: 15.5574 - val_mae: 3.1001\n",
            "Epoch 2/10\n",
            "819/819 [==============================] - 43s 52ms/step - loss: 15.8935 - mae: 3.1668 - val_loss: 15.0588 - val_mae: 3.0698\n",
            "Epoch 3/10\n",
            "819/819 [==============================] - 42s 51ms/step - loss: 14.4693 - mae: 3.0183 - val_loss: 14.0968 - val_mae: 2.9509\n",
            "Epoch 4/10\n",
            "819/819 [==============================] - 40s 49ms/step - loss: 13.5064 - mae: 2.9148 - val_loss: 14.2899 - val_mae: 2.9706\n",
            "Epoch 5/10\n",
            "819/819 [==============================] - 42s 50ms/step - loss: 12.8250 - mae: 2.8381 - val_loss: 14.2287 - val_mae: 2.9461\n",
            "Epoch 6/10\n",
            "819/819 [==============================] - 42s 51ms/step - loss: 12.2370 - mae: 2.7710 - val_loss: 14.2089 - val_mae: 2.9673\n",
            "Epoch 7/10\n",
            "819/819 [==============================] - 41s 49ms/step - loss: 11.7557 - mae: 2.7140 - val_loss: 13.9442 - val_mae: 2.9368\n",
            "Epoch 8/10\n",
            "819/819 [==============================] - 40s 49ms/step - loss: 11.3693 - mae: 2.6674 - val_loss: 14.0959 - val_mae: 2.9823\n",
            "Epoch 9/10\n",
            "819/819 [==============================] - 41s 50ms/step - loss: 11.0483 - mae: 2.6278 - val_loss: 14.2822 - val_mae: 2.9560\n",
            "Epoch 10/10\n",
            "819/819 [==============================] - 41s 50ms/step - loss: 10.7259 - mae: 2.5873 - val_loss: 15.5075 - val_mae: 3.0945\n",
            "405/405 [==============================] - 14s 33ms/step - loss: 15.3519 - mae: 3.1129\n",
            "Test MAE: 3.11\n"
          ]
        }
      ],
      "source": [
        "inputs = keras.Input(shape=(sequence_length, raw_data.shape[-1]))\n",
        "x = layers.Conv1D(8, 24, activation=\"relu\")(inputs)\n",
        "x = layers.MaxPooling1D(2)(x)\n",
        "x = layers.Conv1D(8, 12, activation=\"relu\")(x)\n",
        "x = layers.MaxPooling1D(2)(x)\n",
        "x = layers.Conv1D(8, 6, activation=\"relu\")(x)\n",
        "x = layers.GlobalAveragePooling1D()(x)\n",
        "outputs = layers.Dense(1)(x)\n",
        "model = keras.Model(inputs, outputs)\n",
        "callbacks = [\n",
        "keras.callbacks.ModelCheckpoint(\"jena_conv.keras\",\n",
        "save_best_only=True)\n",
        "]\n",
        "model.compile(optimizer=\"rmsprop\", loss=\"mse\", metrics=[\"mae\"])\n",
        "history = model.fit(train_dataset,\n",
        "epochs=10,\n",
        "validation_data=val_dataset,\n",
        "callbacks=callbacks)\n",
        "model = keras.models.load_model(\"jena_conv.keras\")\n",
        "print(f\"Test MAE: {model.evaluate(test_dataset)[1]:.2f}\")\n"
      ]
    },
    {
      "cell_type": "markdown",
      "metadata": {
        "id": "L0msut1vIGrE"
      },
      "source": [
        "Neither the fully connected approach nor the convolutional approach did well, but that doesn’t mean machine learning isn’t applicable to this problem. The densely connected approach first flattened the timeseries, which removed the notion of time from the input data. The convolutional approach treated every segment of the data in the same way, even applying pooling, which destroyed order information. Let’s instead look at the data as what it is: a sequence, where causality and order matter. There’s a family of neural network architectures designed specifically for this use case: recurrent neural networks. Among them, the Long Short Term Memory (LSTM) layer has long been very popular. We’ll see in a minute how these models work, but let’s start by giving the LSTM layer a try"
      ]
    },
    {
      "cell_type": "code",
      "execution_count": 12,
      "metadata": {
        "colab": {
          "base_uri": "https://localhost:8080/"
        },
        "id": "gRvvV44iIPHK",
        "outputId": "27c277ca-ca50-4887-80ea-4ec4450e277a"
      },
      "outputs": [
        {
          "output_type": "stream",
          "name": "stdout",
          "text": [
            "Epoch 1/10\n",
            "819/819 [==============================] - 48s 56ms/step - loss: 38.2840 - mae: 4.4748 - val_loss: 12.2013 - val_mae: 2.6763\n",
            "Epoch 2/10\n",
            "819/819 [==============================] - 44s 53ms/step - loss: 10.7115 - mae: 2.5439 - val_loss: 9.7887 - val_mae: 2.4392\n",
            "Epoch 3/10\n",
            "819/819 [==============================] - 44s 53ms/step - loss: 9.5855 - mae: 2.4120 - val_loss: 9.8008 - val_mae: 2.4363\n",
            "Epoch 4/10\n",
            "819/819 [==============================] - 45s 54ms/step - loss: 8.9409 - mae: 2.3305 - val_loss: 9.7080 - val_mae: 2.4270\n",
            "Epoch 5/10\n",
            "819/819 [==============================] - 45s 54ms/step - loss: 8.6030 - mae: 2.2831 - val_loss: 9.9191 - val_mae: 2.4528\n",
            "Epoch 6/10\n",
            "819/819 [==============================] - 44s 54ms/step - loss: 8.3438 - mae: 2.2494 - val_loss: 9.8104 - val_mae: 2.4342\n",
            "Epoch 7/10\n",
            "819/819 [==============================] - 44s 53ms/step - loss: 8.1361 - mae: 2.2213 - val_loss: 9.9506 - val_mae: 2.4545\n",
            "Epoch 8/10\n",
            "819/819 [==============================] - 44s 53ms/step - loss: 7.9839 - mae: 2.2009 - val_loss: 10.3118 - val_mae: 2.5097\n",
            "Epoch 9/10\n",
            "819/819 [==============================] - 45s 54ms/step - loss: 7.8343 - mae: 2.1802 - val_loss: 10.3652 - val_mae: 2.5073\n",
            "Epoch 10/10\n",
            "819/819 [==============================] - 43s 52ms/step - loss: 7.7329 - mae: 2.1660 - val_loss: 10.1295 - val_mae: 2.4850\n",
            "405/405 [==============================] - 14s 33ms/step - loss: 10.6305 - mae: 2.5858\n",
            "Test MAE: 2.59\n"
          ]
        }
      ],
      "source": [
        "inputs = keras.Input(shape=(sequence_length, raw_data.shape[-1]))\n",
        "x = layers.LSTM(16)(inputs)\n",
        "outputs = layers.Dense(1)(x)\n",
        "model = keras.Model(inputs, outputs)\n",
        "callbacks = [\n",
        "keras.callbacks.ModelCheckpoint(\"jena_lstm.keras\",\n",
        "save_best_only=True)\n",
        "]\n",
        "model.compile(optimizer=\"rmsprop\", loss=\"mse\", metrics=[\"mae\"])\n",
        "history = model.fit(train_dataset,\n",
        "epochs=10,\n",
        "validation_data=val_dataset,\n",
        "callbacks=callbacks)\n",
        "# Listing 10.12 A simple LSTM-based model\n",
        "# Figure 10.4 Training and validation MAE on the Jena temperatureforecasting task with a 1D convnetUnderstanding recurrent neural networks 293\n",
        "model = keras.models.load_model(\"jena_lstm.keras\")\n",
        "print(f\"Test MAE: {model.evaluate(test_dataset)[1]:.2f}\")"
      ]
    },
    {
      "cell_type": "markdown",
      "metadata": {
        "id": "fw3-GSvliB3i"
      },
      "source": [
        "Listing 10.13 Pseudocode RNN\n",
        "You can even flesh out the function f: the transformation of the input and state into an output will be parameterized by two matrices, W and U, and a bias vector. It’s similar to the transformation operated by a densely connected layer in a feedforward network."
      ]
    },
    {
      "cell_type": "markdown",
      "metadata": {
        "id": "Zn9_uFFyivBX"
      },
      "source": [
        "That’s easy enough. In summary, an RNN is a for loop that reuses quantities computed during the previous iteration of the loop, nothing more. Of course, there are many different RNNs fitting this definition that you could build—this example is one of the simplest RNN formulations. RNNs are characterized by their step function, such as the following function in this case (see figure 10.7).\n",
        "NOTE In this example, the final output is a rank-2 tensor of shape (timesteps, output_features), where each timestep is the output of the loop at\n",
        "time t. Each timestep t in the output tensor contains information about timesteps 0 to t in the input sequence—about the entire past. For this reason, in many cases, you don’t need this full sequence of outputs; you just need the\n",
        "last output (output_t at the end of the loop), because it already contains information about the entire sequence.\n",
        "10.3.1 A recurrent layer in Keras\n",
        "The process we just naively implemented in NumPy corresponds to an actual Keras\n",
        "layer—the SimpleRNN layer.\n",
        "There is one minor difference: SimpleRNN processes batches of sequences, like all other Keras layers, not a single sequence as in the NumPy example. This means it takes inputs of shape (batch_size, timesteps, input_features), rather than (timesteps, input_features). When specifying the shape argument of the initial Input(), note that you can set the timesteps entry to None, which enables your network to process sequences of arbitrary length.\n",
        "num_features = 14\n",
        "inputs = keras.Input(shape=(None, num_features))\n",
        "outputs = layers.SimpleRNN(16)(inputs)\n",
        "This is especially useful if your model is meant to process sequences of variable length.\n",
        "However, if all of your sequences have the same length, I recommend specifying a\n",
        "complete input shape, since it enables model.summary() to display output length information, which is always nice, and it can unlock some performance optimizations (see the “Note on RNN runtime performance” sidebar a little later in this chapter).\n",
        "All recurrent layers in Keras (SimpleRNN, LSTM, and GRU) can be run in two different modes: they can return either full sequences of successive outputs for each timestep (a rank-3 tensor of shape (batch_size, timesteps, output_features)) or return only the last output for each input sequence (a rank-2 tensor of shape (batch_ size, output_features)). These two modes are controlled by the return_sequences constructor argument. Let’s look at an example that uses SimpleRNN and returns only the output at the last timestep."
      ]
    },
    {
      "cell_type": "code",
      "execution_count": 13,
      "metadata": {
        "colab": {
          "base_uri": "https://localhost:8080/"
        },
        "id": "G-bqdffHixPR",
        "outputId": "ac98ca3c-ede5-4abd-d21e-a473b6ead984"
      },
      "outputs": [
        {
          "output_type": "stream",
          "name": "stdout",
          "text": [
            "(None, 16)\n"
          ]
        }
      ],
      "source": [
        "num_features = 14\n",
        "inputs = keras.Input(shape=(None, num_features))\n",
        "outputs = layers.SimpleRNN(16)(inputs)\n",
        "num_features = 14\n",
        "steps = 120\n",
        "inputs = keras.Input(shape=(steps, num_features))\n",
        "outputs = layers.SimpleRNN(16, return_sequences=False)(inputs)\n",
        "print(outputs.shape)\n",
        "\n",
        "# Listing 10.16 An RNN layer that can process sequences of any length\n",
        "# Listing 10.17 An RNN layer that returns only its last output step\n",
        "# Note that\n",
        "return_sequences=False\n",
        "num_features = 14\n",
        "steps = 120\n",
        "inputs = keras.Input(shape=(steps, num_features))\n",
        "outputs = layers.SimpleRNN(16, return_sequences=True)(inputs)\n",
        "inputs = keras.Input(shape=(steps, num_features))\n",
        "x = layers.SimpleRNN(16, return_sequences=True)(inputs)\n",
        "x = layers.SimpleRNN(16, return_sequences=True)(x)\n",
        "outputs = layers.SimpleRNN(16)(x)"
      ]
    },
    {
      "cell_type": "code",
      "execution_count": 13,
      "metadata": {
        "id": "p3esoFnYkiLk"
      },
      "outputs": [],
      "source": []
    },
    {
      "cell_type": "code",
      "execution_count": null,
      "metadata": {
        "colab": {
          "base_uri": "https://localhost:8080/"
        },
        "id": "hepB2GNFkyMe",
        "outputId": "20544a34-48a3-4169-b942-791c6ac64b4e"
      },
      "outputs": [
        {
          "metadata": {
            "tags": null
          },
          "name": "stderr",
          "output_type": "stream",
          "text": [
            "WARNING:tensorflow:Layer lstm_1 will not use cuDNN kernels since it doesn't meet the criteria. It will use a generic GPU kernel as fallback when running on GPU.\n"
          ]
        },
        {
          "output_type": "stream",
          "name": "stdout",
          "text": [
            "Epoch 1/50\n",
            "819/819 [==============================] - 340s 412ms/step - loss: 27.4473 - mae: 3.8774 - val_loss: 9.6915 - val_mae: 2.4234\n",
            "Epoch 2/50\n",
            "819/819 [==============================] - 337s 411ms/step - loss: 14.7469 - mae: 2.9850 - val_loss: 9.6419 - val_mae: 2.4063\n",
            "Epoch 3/50\n",
            "819/819 [==============================] - 356s 434ms/step - loss: 13.9641 - mae: 2.8958 - val_loss: 9.3747 - val_mae: 2.3770\n",
            "Epoch 4/50\n",
            "819/819 [==============================] - 334s 407ms/step - loss: 13.4187 - mae: 2.8389 - val_loss: 10.1734 - val_mae: 2.4630\n",
            "Epoch 5/50\n",
            "819/819 [==============================] - 339s 414ms/step - loss: 12.9360 - mae: 2.7868 - val_loss: 9.4122 - val_mae: 2.3949\n",
            "Epoch 6/50\n",
            "819/819 [==============================] - 339s 414ms/step - loss: 12.4362 - mae: 2.7352 - val_loss: 9.2839 - val_mae: 2.3851\n",
            "Epoch 7/50\n",
            "819/819 [==============================] - 343s 419ms/step - loss: 12.0525 - mae: 2.6981 - val_loss: 9.3715 - val_mae: 2.3848\n",
            "Epoch 8/50\n",
            "819/819 [==============================] - 342s 418ms/step - loss: 11.7530 - mae: 2.6602 - val_loss: 9.7077 - val_mae: 2.4274\n",
            "Epoch 9/50\n",
            "819/819 [==============================] - 342s 418ms/step - loss: 11.4759 - mae: 2.6305 - val_loss: 9.8384 - val_mae: 2.4434\n",
            "Epoch 10/50\n",
            "819/819 [==============================] - 342s 417ms/step - loss: 11.3020 - mae: 2.6072 - val_loss: 9.6196 - val_mae: 2.4038\n",
            "Epoch 11/50\n",
            "819/819 [==============================] - 341s 416ms/step - loss: 11.1085 - mae: 2.5850 - val_loss: 9.6748 - val_mae: 2.4068\n",
            "Epoch 12/50\n",
            "819/819 [==============================] - 340s 415ms/step - loss: 10.9428 - mae: 2.5669 - val_loss: 9.7661 - val_mae: 2.4336\n",
            "Epoch 13/50\n",
            "819/819 [==============================] - 373s 456ms/step - loss: 10.7557 - mae: 2.5446 - val_loss: 9.8442 - val_mae: 2.4290\n",
            "Epoch 14/50\n",
            "819/819 [==============================] - 370s 451ms/step - loss: 10.6201 - mae: 2.5293 - val_loss: 9.8437 - val_mae: 2.4429\n",
            "Epoch 15/50\n",
            "819/819 [==============================] - 373s 455ms/step - loss: 10.4834 - mae: 2.5142 - val_loss: 10.2130 - val_mae: 2.4743\n",
            "Epoch 16/50\n",
            "819/819 [==============================] - 377s 460ms/step - loss: 10.3992 - mae: 2.5048 - val_loss: 10.0903 - val_mae: 2.4692\n",
            "Epoch 17/50\n",
            "819/819 [==============================] - 372s 453ms/step - loss: 10.3011 - mae: 2.4919 - val_loss: 10.3313 - val_mae: 2.5068\n",
            "Epoch 18/50\n",
            "819/819 [==============================] - 376s 459ms/step - loss: 10.1862 - mae: 2.4755 - val_loss: 10.2555 - val_mae: 2.4979\n",
            "Epoch 19/50\n",
            "819/819 [==============================] - 371s 453ms/step - loss: 10.0525 - mae: 2.4621 - val_loss: 10.2384 - val_mae: 2.4957\n",
            "Epoch 20/50\n",
            "819/819 [==============================] - 389s 474ms/step - loss: 9.9969 - mae: 2.4532 - val_loss: 10.4820 - val_mae: 2.5287\n",
            "Epoch 21/50\n",
            "819/819 [==============================] - 371s 453ms/step - loss: 9.8674 - mae: 2.4380 - val_loss: 10.7548 - val_mae: 2.5606\n",
            "Epoch 22/50\n",
            "819/819 [==============================] - 368s 449ms/step - loss: 9.8078 - mae: 2.4300 - val_loss: 10.8512 - val_mae: 2.5788\n",
            "Epoch 23/50\n",
            "819/819 [==============================] - 372s 454ms/step - loss: 9.7145 - mae: 2.4179 - val_loss: 10.6851 - val_mae: 2.5583\n",
            "Epoch 24/50\n",
            "819/819 [==============================] - 370s 451ms/step - loss: 9.7014 - mae: 2.4191 - val_loss: 10.9566 - val_mae: 2.5868\n",
            "Epoch 25/50\n",
            "819/819 [==============================] - 391s 478ms/step - loss: 9.6168 - mae: 2.4056 - val_loss: 10.9699 - val_mae: 2.5959\n",
            "Epoch 26/50\n",
            "819/819 [==============================] - 348s 425ms/step - loss: 9.5252 - mae: 2.3943 - val_loss: 11.0971 - val_mae: 2.6046\n",
            "Epoch 27/50\n",
            "819/819 [==============================] - 344s 419ms/step - loss: 9.4803 - mae: 2.3870 - val_loss: 11.3600 - val_mae: 2.6465\n",
            "Epoch 28/50\n",
            "819/819 [==============================] - 344s 420ms/step - loss: 9.4533 - mae: 2.3864 - val_loss: 11.2484 - val_mae: 2.6238\n",
            "Epoch 29/50\n",
            "819/819 [==============================] - 367s 448ms/step - loss: 9.3575 - mae: 2.3728 - val_loss: 10.9646 - val_mae: 2.6023\n",
            "Epoch 30/50\n",
            "819/819 [==============================] - 367s 448ms/step - loss: 9.3014 - mae: 2.3646 - val_loss: 11.8185 - val_mae: 2.6943\n",
            "Epoch 31/50\n",
            "819/819 [==============================] - 374s 456ms/step - loss: 9.2791 - mae: 2.3607 - val_loss: 11.4444 - val_mae: 2.6455\n",
            "Epoch 32/50\n",
            "819/819 [==============================] - 386s 471ms/step - loss: 9.2517 - mae: 2.3597 - val_loss: 10.9437 - val_mae: 2.5988\n",
            "Epoch 33/50\n",
            "819/819 [==============================] - 362s 442ms/step - loss: 9.1508 - mae: 2.3462 - val_loss: 11.6049 - val_mae: 2.6720\n",
            "Epoch 34/50\n",
            "819/819 [==============================] - 349s 426ms/step - loss: 9.1898 - mae: 2.3491 - val_loss: 11.9180 - val_mae: 2.7066\n",
            "Epoch 35/50\n",
            "819/819 [==============================] - 338s 413ms/step - loss: 9.1280 - mae: 2.3449 - val_loss: 11.7835 - val_mae: 2.6997\n",
            "Epoch 36/50\n",
            "819/819 [==============================] - 334s 407ms/step - loss: 9.1085 - mae: 2.3387 - val_loss: 11.4579 - val_mae: 2.6644\n",
            "Epoch 37/50\n",
            "819/819 [==============================] - 336s 410ms/step - loss: 9.0515 - mae: 2.3347 - val_loss: 11.9558 - val_mae: 2.7179\n",
            "Epoch 38/50\n",
            "819/819 [==============================] - 331s 404ms/step - loss: 9.0284 - mae: 2.3303 - val_loss: 11.2747 - val_mae: 2.6358\n",
            "Epoch 39/50\n",
            "819/819 [==============================] - 332s 405ms/step - loss: 8.9875 - mae: 2.3246 - val_loss: 11.3855 - val_mae: 2.6554\n",
            "Epoch 40/50\n",
            "819/819 [==============================] - 332s 406ms/step - loss: 8.9308 - mae: 2.3186 - val_loss: 11.6848 - val_mae: 2.6763\n",
            "Epoch 41/50\n",
            "819/819 [==============================] - 333s 406ms/step - loss: 8.9423 - mae: 2.3174 - val_loss: 11.8944 - val_mae: 2.6905\n",
            "Epoch 42/50\n",
            "819/819 [==============================] - 333s 406ms/step - loss: 8.8982 - mae: 2.3098 - val_loss: 11.5481 - val_mae: 2.6600\n",
            "Epoch 43/50\n",
            "819/819 [==============================] - 335s 409ms/step - loss: 8.8994 - mae: 2.3107 - val_loss: 11.3543 - val_mae: 2.6438\n",
            "Epoch 44/50\n",
            "553/819 [===================>..........] - ETA: 1:40 - loss: 8.8709 - mae: 2.3082"
          ]
        }
      ],
      "source": [
        "inputs = keras.Input(shape=(sequence_length, raw_data.shape[-1]))\n",
        "x = layers.LSTM(32, recurrent_dropout=0.25)(inputs)\n",
        "x = layers.Dropout(0.5)(x)\n",
        "outputs = layers.Dense(1)(x)\n",
        "model = keras.Model(inputs, outputs)\n",
        "callbacks = [\n",
        "keras.callbacks.ModelCheckpoint(\"jena_lstm_dropout.keras\",\n",
        "save_best_only=True)\n",
        "]\n",
        "model.compile(optimizer=\"rmsprop\", loss=\"mse\", metrics=[\"mae\"])\n",
        "history = model.fit(train_dataset,\n",
        "epochs=50,\n",
        "validation_data=val_dataset,\n",
        "callbacks=callbacks)\n",
        "model.compile(optimizer=\"rmsprop\", loss=\"mse\", metrics=[\"mae\"])\n",
        "history = model.fit(train_dataset,\n",
        "epochs=50,\n",
        "validation_data=val_dataset,\n",
        "callbacks=callbacks)\n",
        "model = keras.models.load_model(\"jena_stacked_gru_dropout.keras\")\n",
        "print(f\"Test MAE: {model.evaluate(test_dataset)[1]:.2f}\")"
      ]
    },
    {
      "cell_type": "markdown",
      "metadata": {
        "id": "p_HiMs4Yk7cA"
      },
      "source": [
        "inputs = keras.Input(shape=(sequence_length, raw_data.shape[-1]))\n",
        "x = layers.GRU(32, recurrent_dropout=0.5, return_sequences=True)(inputs)\n",
        "x = layers.GRU(32, recurrent_dropout=0.5)(x)\n",
        "x = layers.Dropout(0.5)(x)\n",
        "outputs = layers.Dense(1)(x)\n",
        "model = keras.Model(inputs, outputs)\n",
        "callbacks = [\n",
        "keras.callbacks.ModelCheckpoint(\"jena_stacked_gru_dropout.keras\",\n",
        "save_best_only=True)"
      ]
    },
    {
      "cell_type": "markdown",
      "metadata": {
        "id": "XEhd9z2ZkD9X"
      },
      "source": [
        "In practice, you’ll rarely work with the SimpleRNN layer. It’s generally too simplistic to be of real use. In particular, SimpleRNN has a major issue: although it should theoretically be able to retain at time t information about inputs seen many timesteps before, such long-term dependencies prove impossible to learn in practice. This is due to the vanishing gradient problem, an effect that is similar to what is observed with non-recurrent networks (feedforward networks) that are many layers deep: as you keep adding layers to a network, the network eventually becomes untrainable. The theoretical reasons for this effect were studied by Hochreiter, Schmidhuber, and Bengio in the early 1990s.3\n",
        "Thankfully, SimpleRNN isn’t the only recurrent layer available in Keras. There are two others, LSTM and GRU, which were designed to address these issues.\n",
        "Let’s consider the LSTM layer. The underlying Long Short-Term Memory (LSTM)\n",
        "algorithm was developed by Hochreiter and Schmidhuber in 1997;4 it was the culmination of their research on the vanishing gradient problem.\n",
        "This layer is a variant of the SimpleRNN layer you already know about; it adds a way to carry information across many timesteps. Imagine a conveyor belt running parallel to the sequence you’re processing. Information from the sequence can jump onto the conveyor belt at any point, be transported to a later timestep, and jump off, intact, when you need it. This is essentially what LSTM does: it saves information for later, thus preventing older signals from gradually vanishing during processing. This should\n",
        "Listing 10.18 An RNN layer that returns its full output sequence\n",
        "Listing 10.19 Stacking RNN layers\n",
        "3 See, for example, Yoshua Bengio, Patrice Simard, and Paolo Frasconi, “Learning Long-Term Dependencies\n",
        "with Gradient Descent Is Difficult,” IEEE Transactions on Neural Networks 5, no. 2 (1994).\n",
        "4 Sepp Hochreiter and Jürgen Schmidhuber, “Long Short-Term Memory,” Neural Computation 9, no. 8 (1997).298 CHAPTER 10 Deep learning for timeseries\n",
        "remind you of residual connections, which you learned about in chapter 9: it’s pretty much the same idea.\n",
        "To understand this process in detail, let’s start from the SimpleRNN cell (see figure 10.8). Because you’ll have a lot of weight matrices, index the W and U matrices in the cell, with the letter o (Wo and Uo) for output."
      ]
    }
  ],
  "metadata": {
    "colab": {
      "provenance": [],
      "authorship_tag": "ABX9TyNCoNYWbJv+KNTNB/W1QtxP",
      "include_colab_link": true
    },
    "kernelspec": {
      "display_name": "Python 3",
      "name": "python3"
    },
    "language_info": {
      "name": "python"
    },
    "accelerator": "GPU",
    "gpuClass": "standard"
  },
  "nbformat": 4,
  "nbformat_minor": 0
}