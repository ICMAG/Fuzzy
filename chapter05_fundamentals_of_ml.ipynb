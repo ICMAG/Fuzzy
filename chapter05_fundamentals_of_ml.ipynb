{
  "cells": [
    {
      "cell_type": "markdown",
      "metadata": {
        "id": "view-in-github",
        "colab_type": "text"
      },
      "source": [
        "<a href=\"https://colab.research.google.com/github/ICMAG/Fuzzy/blob/main/chapter05_fundamentals_of_ml.ipynb\" target=\"_parent\"><img src=\"https://colab.research.google.com/assets/colab-badge.svg\" alt=\"Open In Colab\"/></a>"
      ]
    },
    {
      "cell_type": "markdown",
      "metadata": {
        "id": "YtuiUcEyh-xK"
      },
      "source": [
        "This is a companion notebook for the book [Deep Learning with Python, Second Edition](https://www.manning.com/books/deep-learning-with-python-second-edition?a_aid=keras&a_bid=76564dff). For readability, it only contains runnable code blocks and section titles, and omits everything else in the book: text paragraphs, figures, and pseudocode.\n",
        "\n",
        "**If you want to be able to follow what's going on, I recommend reading the notebook side by side with your copy of the book.**\n",
        "\n",
        "This notebook was generated for TensorFlow 2.6."
      ]
    },
    {
      "cell_type": "markdown",
      "metadata": {
        "id": "VZbs_Hsvh-xi"
      },
      "source": [
        "# Fundamentals of machine learning"
      ]
    },
    {
      "cell_type": "markdown",
      "metadata": {
        "id": "toFMvhvLh-xu"
      },
      "source": [
        "## Generalization: The goal of machine learning"
      ]
    },
    {
      "cell_type": "markdown",
      "metadata": {
        "id": "aJvoSDjth-x2"
      },
      "source": [
        "### Underfitting and overfitting"
      ]
    },
    {
      "cell_type": "markdown",
      "metadata": {
        "id": "ysW8zVA4h-yA"
      },
      "source": [
        "#### Noisy training data"
      ]
    },
    {
      "cell_type": "markdown",
      "metadata": {
        "id": "aBiZ2LTMh-yD"
      },
      "source": [
        "#### Ambiguous features"
      ]
    },
    {
      "cell_type": "markdown",
      "metadata": {
        "id": "kOoB4N_Ch-yG"
      },
      "source": [
        "#### Rare features and spurious correlations"
      ]
    },
    {
      "cell_type": "markdown",
      "metadata": {
        "id": "bYQrdUMqh-yM"
      },
      "source": [
        "**Adding white-noise channels or all-zeros channels to MNIST**"
      ]
    },
    {
      "cell_type": "code",
      "execution_count": null,
      "metadata": {
        "colab": {
          "base_uri": "https://localhost:8080/"
        },
        "id": "3H8_Oi7sh-yS",
        "outputId": "23acd199-1adb-4403-ec60-e610a1cd457f"
      },
      "outputs": [
        {
          "name": "stdout",
          "output_type": "stream",
          "text": [
            "Downloading data from https://storage.googleapis.com/tensorflow/tf-keras-datasets/mnist.npz\n",
            "11493376/11490434 [==============================] - 0s 0us/step\n",
            "11501568/11490434 [==============================] - 0s 0us/step\n"
          ]
        }
      ],
      "source": [
        "from tensorflow.keras.datasets import mnist\n",
        "import numpy as np\n",
        "\n",
        "(train_images, train_labels), _ = mnist.load_data()\n",
        "train_images = train_images.reshape((60000, 28 * 28))\n",
        "train_images = train_images.astype(\"float32\") / 255\n",
        "\n",
        "train_images_with_noise_channels = np.concatenate(\n",
        "    [train_images, np.random.random((len(train_images), 784))], axis=1)\n",
        "\n",
        "train_images_with_zeros_channels = np.concatenate(\n",
        "    [train_images, np.zeros((len(train_images), 784))], axis=1)"
      ]
    },
    {
      "cell_type": "markdown",
      "metadata": {
        "id": "fm2mFb9dh-yi"
      },
      "source": [
        "**Training the same model on MNIST data with noise channels or all-zero channels**"
      ]
    },
    {
      "cell_type": "code",
      "execution_count": null,
      "metadata": {
        "colab": {
          "base_uri": "https://localhost:8080/"
        },
        "id": "HRfdTIHYh-ym",
        "outputId": "b69e169c-821a-43df-d227-2b631030d756"
      },
      "outputs": [
        {
          "name": "stdout",
          "output_type": "stream",
          "text": [
            "Epoch 1/10\n",
            "375/375 [==============================] - 8s 20ms/step - loss: 0.6227 - accuracy: 0.8104 - val_loss: 0.3636 - val_accuracy: 0.8844\n",
            "Epoch 2/10\n",
            "375/375 [==============================] - 5s 14ms/step - loss: 0.2529 - accuracy: 0.9218 - val_loss: 0.1909 - val_accuracy: 0.9427\n",
            "Epoch 3/10\n",
            "375/375 [==============================] - 4s 12ms/step - loss: 0.1658 - accuracy: 0.9487 - val_loss: 0.1489 - val_accuracy: 0.9567\n",
            "Epoch 4/10\n",
            "375/375 [==============================] - 4s 12ms/step - loss: 0.1187 - accuracy: 0.9631 - val_loss: 0.1525 - val_accuracy: 0.9535\n",
            "Epoch 5/10\n",
            "375/375 [==============================] - 4s 12ms/step - loss: 0.0867 - accuracy: 0.9725 - val_loss: 0.1529 - val_accuracy: 0.9557\n",
            "Epoch 6/10\n",
            "375/375 [==============================] - 4s 12ms/step - loss: 0.0648 - accuracy: 0.9804 - val_loss: 0.1468 - val_accuracy: 0.9600\n",
            "Epoch 7/10\n",
            "375/375 [==============================] - 4s 11ms/step - loss: 0.0486 - accuracy: 0.9845 - val_loss: 0.1401 - val_accuracy: 0.9622\n",
            "Epoch 8/10\n",
            "375/375 [==============================] - 4s 12ms/step - loss: 0.0383 - accuracy: 0.9877 - val_loss: 0.1407 - val_accuracy: 0.9634\n",
            "Epoch 9/10\n",
            "375/375 [==============================] - 4s 12ms/step - loss: 0.0280 - accuracy: 0.9915 - val_loss: 0.1419 - val_accuracy: 0.9640\n",
            "Epoch 10/10\n",
            "375/375 [==============================] - 4s 12ms/step - loss: 0.0215 - accuracy: 0.9927 - val_loss: 0.1355 - val_accuracy: 0.9671\n",
            "Epoch 1/10\n",
            "375/375 [==============================] - 5s 13ms/step - loss: 0.2847 - accuracy: 0.9177 - val_loss: 0.1484 - val_accuracy: 0.9569\n",
            "Epoch 2/10\n",
            "375/375 [==============================] - 4s 12ms/step - loss: 0.1191 - accuracy: 0.9640 - val_loss: 0.1179 - val_accuracy: 0.9663\n",
            "Epoch 3/10\n",
            "375/375 [==============================] - 4s 12ms/step - loss: 0.0771 - accuracy: 0.9771 - val_loss: 0.0938 - val_accuracy: 0.9712\n",
            "Epoch 4/10\n",
            "375/375 [==============================] - 4s 11ms/step - loss: 0.0554 - accuracy: 0.9840 - val_loss: 0.0862 - val_accuracy: 0.9747\n",
            "Epoch 5/10\n",
            "375/375 [==============================] - 5s 13ms/step - loss: 0.0408 - accuracy: 0.9879 - val_loss: 0.0856 - val_accuracy: 0.9752\n",
            "Epoch 6/10\n",
            "375/375 [==============================] - 4s 12ms/step - loss: 0.0312 - accuracy: 0.9906 - val_loss: 0.0823 - val_accuracy: 0.9785\n",
            "Epoch 7/10\n",
            "375/375 [==============================] - 4s 12ms/step - loss: 0.0241 - accuracy: 0.9930 - val_loss: 0.0843 - val_accuracy: 0.9760\n",
            "Epoch 8/10\n",
            "375/375 [==============================] - 4s 12ms/step - loss: 0.0181 - accuracy: 0.9949 - val_loss: 0.0823 - val_accuracy: 0.9797\n",
            "Epoch 9/10\n",
            "375/375 [==============================] - 6s 16ms/step - loss: 0.0134 - accuracy: 0.9959 - val_loss: 0.0951 - val_accuracy: 0.9765\n",
            "Epoch 10/10\n",
            "375/375 [==============================] - 7s 19ms/step - loss: 0.0105 - accuracy: 0.9970 - val_loss: 0.0852 - val_accuracy: 0.9802\n"
          ]
        }
      ],
      "source": [
        "from tensorflow import keras\n",
        "from tensorflow.keras import layers\n",
        "\n",
        "def get_model():\n",
        "    model = keras.Sequential([\n",
        "        layers.Dense(512, activation=\"relu\"),\n",
        "        layers.Dense(10, activation=\"softmax\")\n",
        "    ])\n",
        "    model.compile(optimizer=\"rmsprop\",\n",
        "                  loss=\"sparse_categorical_crossentropy\",\n",
        "                  metrics=[\"accuracy\"])\n",
        "    return model\n",
        "\n",
        "model = get_model()\n",
        "history_noise = model.fit(\n",
        "    train_images_with_noise_channels, train_labels,\n",
        "    epochs=10,\n",
        "    batch_size=128,\n",
        "    validation_split=0.2)\n",
        "\n",
        "model = get_model()\n",
        "history_zeros = model.fit(\n",
        "    train_images_with_zeros_channels, train_labels,\n",
        "    epochs=10,\n",
        "    batch_size=128,\n",
        "    validation_split=0.2)"
      ]
    },
    {
      "cell_type": "markdown",
      "metadata": {
        "id": "U6eQGk64h-yq"
      },
      "source": [
        "**Plotting a validation accuracy comparison**"
      ]
    },
    {
      "cell_type": "code",
      "execution_count": null,
      "metadata": {
        "colab": {
          "base_uri": "https://localhost:8080/",
          "height": 312
        },
        "id": "aRM6KTkCh-yt",
        "outputId": "dea68a0d-6655-4682-d9a6-a133b4e2d873"
      },
      "outputs": [
        {
          "data": {
            "text/plain": [
              "<matplotlib.legend.Legend at 0x7fd7d0903ed0>"
            ]
          },
          "execution_count": 3,
          "metadata": {},
          "output_type": "execute_result"
        },
        {
          "data": {
            "image/png": "[encoded data removed]",
            "text/plain": [
              "<Figure size 432x288 with 1 Axes>"
            ]
          },
          "metadata": {},
          "output_type": "display_data"
        }
      ],
      "source": [
        "import matplotlib.pyplot as plt\n",
        "val_acc_noise = history_noise.history[\"val_accuracy\"]\n",
        "val_acc_zeros = history_zeros.history[\"val_accuracy\"]\n",
        "epochs = range(1, 11)\n",
        "plt.plot(epochs, val_acc_noise, \"b-\",\n",
        "         label=\"Validation accuracy with noise channels\")\n",
        "plt.plot(epochs, val_acc_zeros, \"b--\",\n",
        "         label=\"Validation accuracy with zeros channels\")\n",
        "plt.title(\"Effect of noise channels on validation accuracy\")\n",
        "plt.xlabel(\"Epochs\")\n",
        "plt.ylabel(\"Accuracy\")\n",
        "plt.legend()"
      ]
    },
    {
      "cell_type": "markdown",
      "metadata": {
        "id": "tbgukDFJh-yx"
      },
      "source": [
        "### The nature of generalization in deep learning"
      ]
    },
    {
      "cell_type": "markdown",
      "metadata": {
        "id": "oUsvVtrZh-y1"
      },
      "source": [
        "**Fitting a MNIST model with randomly shuffled labels**"
      ]
    },
    {
      "cell_type": "code",
      "execution_count": null,
      "metadata": {
        "colab": {
          "base_uri": "https://localhost:8080/"
        },
        "id": "GTbNbIXlh-y3",
        "outputId": "56e400ff-b557-4a1a-e7b3-68f71e45eac6"
      },
      "outputs": [
        {
          "name": "stdout",
          "output_type": "stream",
          "text": [
            "Epoch 1/100\n",
            "375/375 [==============================] - 3s 8ms/step - loss: 2.3165 - accuracy: 0.1033 - val_loss: 2.3065 - val_accuracy: 0.1032\n",
            "Epoch 2/100\n",
            "375/375 [==============================] - 3s 7ms/step - loss: 2.3003 - accuracy: 0.1154 - val_loss: 2.3153 - val_accuracy: 0.1023\n",
            "Epoch 3/100\n",
            "375/375 [==============================] - 3s 7ms/step - loss: 2.2906 - accuracy: 0.1286 - val_loss: 2.3214 - val_accuracy: 0.1009\n",
            "Epoch 4/100\n",
            "375/375 [==============================] - 3s 7ms/step - loss: 2.2766 - accuracy: 0.1388 - val_loss: 2.3278 - val_accuracy: 0.1065\n",
            "Epoch 5/100\n",
            "375/375 [==============================] - 3s 7ms/step - loss: 2.2593 - accuracy: 0.1529 - val_loss: 2.3370 - val_accuracy: 0.1029\n",
            "Epoch 6/100\n",
            "375/375 [==============================] - 3s 7ms/step - loss: 2.2387 - accuracy: 0.1675 - val_loss: 2.3510 - val_accuracy: 0.1022\n",
            "Epoch 7/100\n",
            "375/375 [==============================] - 3s 7ms/step - loss: 2.2136 - accuracy: 0.1817 - val_loss: 2.3778 - val_accuracy: 0.1046\n",
            "Epoch 8/100\n",
            "375/375 [==============================] - 3s 7ms/step - loss: 2.1864 - accuracy: 0.1962 - val_loss: 2.3857 - val_accuracy: 0.1047\n",
            "Epoch 9/100\n",
            "375/375 [==============================] - 3s 7ms/step - loss: 2.1563 - accuracy: 0.2142 - val_loss: 2.4045 - val_accuracy: 0.1043\n",
            "Epoch 10/100\n",
            "375/375 [==============================] - 3s 7ms/step - loss: 2.1247 - accuracy: 0.2340 - val_loss: 2.4325 - val_accuracy: 0.1072\n",
            "Epoch 11/100\n",
            "375/375 [==============================] - 3s 8ms/step - loss: 2.0917 - accuracy: 0.2474 - val_loss: 2.4495 - val_accuracy: 0.1070\n",
            "Epoch 12/100\n",
            "375/375 [==============================] - 3s 8ms/step - loss: 2.0580 - accuracy: 0.2646 - val_loss: 2.4814 - val_accuracy: 0.0999\n",
            "Epoch 13/100\n",
            "375/375 [==============================] - 3s 7ms/step - loss: 2.0235 - accuracy: 0.2781 - val_loss: 2.5139 - val_accuracy: 0.1044\n",
            "Epoch 14/100\n",
            "375/375 [==============================] - 3s 8ms/step - loss: 1.9889 - accuracy: 0.2912 - val_loss: 2.5319 - val_accuracy: 0.1050\n",
            "Epoch 15/100\n",
            "375/375 [==============================] - 3s 7ms/step - loss: 1.9533 - accuracy: 0.3071 - val_loss: 2.5720 - val_accuracy: 0.1014\n",
            "Epoch 16/100\n",
            "375/375 [==============================] - 3s 7ms/step - loss: 1.9191 - accuracy: 0.3222 - val_loss: 2.5938 - val_accuracy: 0.1049\n",
            "Epoch 17/100\n",
            "375/375 [==============================] - 3s 7ms/step - loss: 1.8825 - accuracy: 0.3385 - val_loss: 2.6347 - val_accuracy: 0.1013\n",
            "Epoch 18/100\n",
            "375/375 [==============================] - 3s 7ms/step - loss: 1.8511 - accuracy: 0.3491 - val_loss: 2.6673 - val_accuracy: 0.0990\n",
            "Epoch 19/100\n",
            "375/375 [==============================] - 3s 7ms/step - loss: 1.8169 - accuracy: 0.3657 - val_loss: 2.6974 - val_accuracy: 0.1027\n",
            "Epoch 20/100\n",
            "375/375 [==============================] - 3s 7ms/step - loss: 1.7824 - accuracy: 0.3794 - val_loss: 2.7396 - val_accuracy: 0.1017\n",
            "Epoch 21/100\n",
            "375/375 [==============================] - 3s 7ms/step - loss: 1.7502 - accuracy: 0.3889 - val_loss: 2.7809 - val_accuracy: 0.0984\n",
            "Epoch 22/100\n",
            "375/375 [==============================] - 3s 7ms/step - loss: 1.7211 - accuracy: 0.4031 - val_loss: 2.8244 - val_accuracy: 0.1018\n",
            "Epoch 23/100\n",
            "375/375 [==============================] - 3s 7ms/step - loss: 1.6889 - accuracy: 0.4131 - val_loss: 2.8447 - val_accuracy: 0.1013\n",
            "Epoch 24/100\n",
            "375/375 [==============================] - 3s 7ms/step - loss: 1.6598 - accuracy: 0.4263 - val_loss: 2.8996 - val_accuracy: 0.1042\n",
            "Epoch 25/100\n",
            "375/375 [==============================] - 3s 7ms/step - loss: 1.6304 - accuracy: 0.4366 - val_loss: 2.9305 - val_accuracy: 0.1030\n",
            "Epoch 26/100\n",
            "375/375 [==============================] - 3s 7ms/step - loss: 1.6013 - accuracy: 0.4477 - val_loss: 2.9681 - val_accuracy: 0.1002\n",
            "Epoch 27/100\n",
            "375/375 [==============================] - 3s 7ms/step - loss: 1.5720 - accuracy: 0.4595 - val_loss: 3.0352 - val_accuracy: 0.1033\n",
            "Epoch 28/100\n",
            "375/375 [==============================] - 3s 7ms/step - loss: 1.5464 - accuracy: 0.4688 - val_loss: 3.0631 - val_accuracy: 0.1032\n",
            "Epoch 29/100\n",
            "375/375 [==============================] - 3s 7ms/step - loss: 1.5180 - accuracy: 0.4793 - val_loss: 3.1086 - val_accuracy: 0.0997\n",
            "Epoch 30/100\n",
            "375/375 [==============================] - 3s 7ms/step - loss: 1.4911 - accuracy: 0.4892 - val_loss: 3.1606 - val_accuracy: 0.1023\n",
            "Epoch 31/100\n",
            "375/375 [==============================] - 3s 7ms/step - loss: 1.4663 - accuracy: 0.4979 - val_loss: 3.2134 - val_accuracy: 0.1062\n",
            "Epoch 32/100\n",
            "375/375 [==============================] - 3s 7ms/step - loss: 1.4405 - accuracy: 0.5089 - val_loss: 3.2482 - val_accuracy: 0.1048\n",
            "Epoch 33/100\n",
            "375/375 [==============================] - 3s 8ms/step - loss: 1.4175 - accuracy: 0.5149 - val_loss: 3.3108 - val_accuracy: 0.1051\n",
            "Epoch 34/100\n",
            "375/375 [==============================] - 3s 8ms/step - loss: 1.3946 - accuracy: 0.5233 - val_loss: 3.3218 - val_accuracy: 0.1077\n",
            "Epoch 35/100\n",
            "375/375 [==============================] - 3s 7ms/step - loss: 1.3718 - accuracy: 0.5303 - val_loss: 3.3836 - val_accuracy: 0.1025\n",
            "Epoch 36/100\n",
            "375/375 [==============================] - 3s 7ms/step - loss: 1.3507 - accuracy: 0.5369 - val_loss: 3.4319 - val_accuracy: 0.1041\n",
            "Epoch 37/100\n",
            "375/375 [==============================] - 3s 7ms/step - loss: 1.3269 - accuracy: 0.5480 - val_loss: 3.4762 - val_accuracy: 0.1050\n",
            "Epoch 38/100\n",
            "375/375 [==============================] - 3s 7ms/step - loss: 1.3029 - accuracy: 0.5569 - val_loss: 3.5105 - val_accuracy: 0.1058\n",
            "Epoch 39/100\n",
            "375/375 [==============================] - 3s 7ms/step - loss: 1.2831 - accuracy: 0.5613 - val_loss: 3.5737 - val_accuracy: 0.1066\n",
            "Epoch 40/100\n",
            "375/375 [==============================] - 3s 7ms/step - loss: 1.2629 - accuracy: 0.5701 - val_loss: 3.6350 - val_accuracy: 0.1017\n",
            "Epoch 41/100\n",
            "375/375 [==============================] - 3s 7ms/step - loss: 1.2453 - accuracy: 0.5795 - val_loss: 3.6639 - val_accuracy: 0.1055\n",
            "Epoch 42/100\n",
            "375/375 [==============================] - 3s 7ms/step - loss: 1.2221 - accuracy: 0.5855 - val_loss: 3.7171 - val_accuracy: 0.1052\n",
            "Epoch 43/100\n",
            "375/375 [==============================] - 3s 7ms/step - loss: 1.1999 - accuracy: 0.5949 - val_loss: 3.7532 - val_accuracy: 0.1036\n",
            "Epoch 44/100\n",
            "375/375 [==============================] - 3s 7ms/step - loss: 1.1846 - accuracy: 0.5985 - val_loss: 3.8487 - val_accuracy: 0.1011\n",
            "Epoch 45/100\n",
            "375/375 [==============================] - 3s 7ms/step - loss: 1.1662 - accuracy: 0.6065 - val_loss: 3.8616 - val_accuracy: 0.1058\n",
            "Epoch 46/100\n",
            "375/375 [==============================] - 3s 7ms/step - loss: 1.1473 - accuracy: 0.6126 - val_loss: 3.9253 - val_accuracy: 0.1028\n",
            "Epoch 47/100\n",
            "375/375 [==============================] - 3s 7ms/step - loss: 1.1295 - accuracy: 0.6203 - val_loss: 3.9775 - val_accuracy: 0.1035\n",
            "Epoch 48/100\n",
            "375/375 [==============================] - 3s 7ms/step - loss: 1.1134 - accuracy: 0.6278 - val_loss: 4.0356 - val_accuracy: 0.1037\n",
            "Epoch 49/100\n",
            "375/375 [==============================] - 3s 7ms/step - loss: 1.0976 - accuracy: 0.6298 - val_loss: 4.0920 - val_accuracy: 0.1037\n",
            "Epoch 50/100\n",
            "375/375 [==============================] - 3s 7ms/step - loss: 1.0791 - accuracy: 0.6398 - val_loss: 4.1643 - val_accuracy: 0.0997\n",
            "Epoch 51/100\n",
            "375/375 [==============================] - 3s 7ms/step - loss: 1.0625 - accuracy: 0.6433 - val_loss: 4.2040 - val_accuracy: 0.1042\n",
            "Epoch 52/100\n",
            "375/375 [==============================] - 3s 7ms/step - loss: 1.0461 - accuracy: 0.6504 - val_loss: 4.2422 - val_accuracy: 0.1047\n",
            "Epoch 53/100\n",
            "375/375 [==============================] - 3s 7ms/step - loss: 1.0312 - accuracy: 0.6571 - val_loss: 4.3247 - val_accuracy: 0.1022\n",
            "Epoch 54/100\n",
            "375/375 [==============================] - 3s 7ms/step - loss: 1.0158 - accuracy: 0.6602 - val_loss: 4.3579 - val_accuracy: 0.1054\n",
            "Epoch 55/100\n",
            "375/375 [==============================] - 3s 7ms/step - loss: 1.0005 - accuracy: 0.6666 - val_loss: 4.4151 - val_accuracy: 0.1009\n",
            "Epoch 56/100\n",
            "375/375 [==============================] - 3s 7ms/step - loss: 0.9841 - accuracy: 0.6716 - val_loss: 4.5000 - val_accuracy: 0.1036\n",
            "Epoch 57/100\n",
            "375/375 [==============================] - 3s 7ms/step - loss: 0.9714 - accuracy: 0.6748 - val_loss: 4.5483 - val_accuracy: 0.1035\n",
            "Epoch 58/100\n",
            "375/375 [==============================] - 3s 7ms/step - loss: 0.9541 - accuracy: 0.6834 - val_loss: 4.6229 - val_accuracy: 0.1021\n",
            "Epoch 59/100\n",
            "375/375 [==============================] - 3s 7ms/step - loss: 0.9428 - accuracy: 0.6868 - val_loss: 4.6394 - val_accuracy: 0.1007\n",
            "Epoch 60/100\n",
            "375/375 [==============================] - 3s 7ms/step - loss: 0.9277 - accuracy: 0.6913 - val_loss: 4.7145 - val_accuracy: 0.0995\n",
            "Epoch 61/100\n",
            "375/375 [==============================] - 3s 7ms/step - loss: 0.9162 - accuracy: 0.6948 - val_loss: 4.7742 - val_accuracy: 0.1026\n",
            "Epoch 62/100\n",
            "375/375 [==============================] - 3s 7ms/step - loss: 0.9021 - accuracy: 0.6997 - val_loss: 4.8307 - val_accuracy: 0.1008\n",
            "Epoch 63/100\n",
            "375/375 [==============================] - 3s 7ms/step - loss: 0.8886 - accuracy: 0.7051 - val_loss: 4.8862 - val_accuracy: 0.1042\n",
            "Epoch 64/100\n",
            "375/375 [==============================] - 3s 7ms/step - loss: 0.8776 - accuracy: 0.7097 - val_loss: 4.9579 - val_accuracy: 0.0996\n",
            "Epoch 65/100\n",
            "375/375 [==============================] - 3s 7ms/step - loss: 0.8652 - accuracy: 0.7159 - val_loss: 4.9713 - val_accuracy: 0.1002\n",
            "Epoch 66/100\n",
            "375/375 [==============================] - 3s 7ms/step - loss: 0.8506 - accuracy: 0.7190 - val_loss: 5.0858 - val_accuracy: 0.1037\n",
            "Epoch 67/100\n",
            "375/375 [==============================] - 3s 7ms/step - loss: 0.8375 - accuracy: 0.7237 - val_loss: 5.1261 - val_accuracy: 0.1044\n",
            "Epoch 68/100\n",
            "375/375 [==============================] - 3s 7ms/step - loss: 0.8281 - accuracy: 0.7259 - val_loss: 5.1875 - val_accuracy: 0.1041\n",
            "Epoch 69/100\n",
            "375/375 [==============================] - 3s 7ms/step - loss: 0.8142 - accuracy: 0.7331 - val_loss: 5.2788 - val_accuracy: 0.1038\n",
            "Epoch 70/100\n",
            "375/375 [==============================] - 3s 7ms/step - loss: 0.8042 - accuracy: 0.7343 - val_loss: 5.2912 - val_accuracy: 0.1037\n",
            "Epoch 71/100\n",
            "375/375 [==============================] - 3s 7ms/step - loss: 0.7935 - accuracy: 0.7391 - val_loss: 5.3995 - val_accuracy: 0.1044\n",
            "Epoch 72/100\n",
            "375/375 [==============================] - 3s 7ms/step - loss: 0.7819 - accuracy: 0.7420 - val_loss: 5.4433 - val_accuracy: 0.1047\n",
            "Epoch 73/100\n",
            "375/375 [==============================] - 3s 7ms/step - loss: 0.7695 - accuracy: 0.7477 - val_loss: 5.4999 - val_accuracy: 0.1040\n",
            "Epoch 74/100\n",
            "375/375 [==============================] - 3s 7ms/step - loss: 0.7613 - accuracy: 0.7490 - val_loss: 5.5924 - val_accuracy: 0.1028\n",
            "Epoch 75/100\n",
            "375/375 [==============================] - 3s 7ms/step - loss: 0.7485 - accuracy: 0.7549 - val_loss: 5.6503 - val_accuracy: 0.1025\n",
            "Epoch 76/100\n",
            "375/375 [==============================] - 3s 7ms/step - loss: 0.7375 - accuracy: 0.7583 - val_loss: 5.7066 - val_accuracy: 0.1027\n",
            "Epoch 77/100\n",
            "375/375 [==============================] - 3s 7ms/step - loss: 0.7269 - accuracy: 0.7618 - val_loss: 5.7110 - val_accuracy: 0.1028\n",
            "Epoch 78/100\n",
            "375/375 [==============================] - 3s 7ms/step - loss: 0.7201 - accuracy: 0.7627 - val_loss: 5.8352 - val_accuracy: 0.0994\n",
            "Epoch 79/100\n",
            "375/375 [==============================] - 3s 7ms/step - loss: 0.7098 - accuracy: 0.7695 - val_loss: 5.8388 - val_accuracy: 0.1030\n",
            "Epoch 80/100\n",
            "375/375 [==============================] - 3s 7ms/step - loss: 0.6984 - accuracy: 0.7717 - val_loss: 5.9393 - val_accuracy: 0.1024\n",
            "Epoch 81/100\n",
            "375/375 [==============================] - 3s 7ms/step - loss: 0.6909 - accuracy: 0.7750 - val_loss: 6.0375 - val_accuracy: 0.1024\n",
            "Epoch 82/100\n",
            "375/375 [==============================] - 3s 7ms/step - loss: 0.6805 - accuracy: 0.7784 - val_loss: 6.1117 - val_accuracy: 0.1032\n",
            "Epoch 83/100\n",
            "375/375 [==============================] - 3s 7ms/step - loss: 0.6715 - accuracy: 0.7820 - val_loss: 6.1351 - val_accuracy: 0.1027\n",
            "Epoch 84/100\n",
            "375/375 [==============================] - 3s 7ms/step - loss: 0.6605 - accuracy: 0.7853 - val_loss: 6.2166 - val_accuracy: 0.1018\n",
            "Epoch 85/100\n",
            "375/375 [==============================] - 3s 7ms/step - loss: 0.6539 - accuracy: 0.7874 - val_loss: 6.3277 - val_accuracy: 0.1026\n",
            "Epoch 86/100\n",
            "375/375 [==============================] - 3s 7ms/step - loss: 0.6429 - accuracy: 0.7918 - val_loss: 6.3575 - val_accuracy: 0.1024\n",
            "Epoch 87/100\n",
            "375/375 [==============================] - 3s 7ms/step - loss: 0.6364 - accuracy: 0.7926 - val_loss: 6.4392 - val_accuracy: 0.1037\n",
            "Epoch 88/100\n",
            "375/375 [==============================] - 3s 7ms/step - loss: 0.6290 - accuracy: 0.7943 - val_loss: 6.4330 - val_accuracy: 0.1010\n",
            "Epoch 89/100\n",
            "375/375 [==============================] - 3s 7ms/step - loss: 0.6176 - accuracy: 0.8001 - val_loss: 6.5537 - val_accuracy: 0.1027\n",
            "Epoch 90/100\n",
            "375/375 [==============================] - 3s 7ms/step - loss: 0.6105 - accuracy: 0.8022 - val_loss: 6.6321 - val_accuracy: 0.1011\n",
            "Epoch 91/100\n",
            "375/375 [==============================] - 3s 7ms/step - loss: 0.6025 - accuracy: 0.8054 - val_loss: 6.6442 - val_accuracy: 0.1037\n",
            "Epoch 92/100\n",
            "375/375 [==============================] - 3s 7ms/step - loss: 0.5950 - accuracy: 0.8064 - val_loss: 6.7697 - val_accuracy: 0.1037\n",
            "Epoch 93/100\n",
            "375/375 [==============================] - 3s 7ms/step - loss: 0.5866 - accuracy: 0.8118 - val_loss: 6.7631 - val_accuracy: 0.1034\n",
            "Epoch 94/100\n",
            "375/375 [==============================] - 3s 7ms/step - loss: 0.5779 - accuracy: 0.8128 - val_loss: 6.8676 - val_accuracy: 0.1033\n",
            "Epoch 95/100\n",
            "375/375 [==============================] - 3s 7ms/step - loss: 0.5731 - accuracy: 0.8152 - val_loss: 6.9175 - val_accuracy: 0.1019\n",
            "Epoch 96/100\n",
            "375/375 [==============================] - 3s 7ms/step - loss: 0.5626 - accuracy: 0.8183 - val_loss: 7.0331 - val_accuracy: 0.1018\n",
            "Epoch 97/100\n",
            "375/375 [==============================] - 3s 7ms/step - loss: 0.5569 - accuracy: 0.8195 - val_loss: 7.0220 - val_accuracy: 0.1030\n",
            "Epoch 98/100\n",
            "375/375 [==============================] - 3s 7ms/step - loss: 0.5516 - accuracy: 0.8224 - val_loss: 7.1073 - val_accuracy: 0.1030\n",
            "Epoch 99/100\n",
            "375/375 [==============================] - 3s 7ms/step - loss: 0.5411 - accuracy: 0.8264 - val_loss: 7.2073 - val_accuracy: 0.1031\n",
            "Epoch 100/100\n",
            "375/375 [==============================] - 3s 7ms/step - loss: 0.5367 - accuracy: 0.8272 - val_loss: 7.2686 - val_accuracy: 0.0992\n"
          ]
        },
        {
          "data": {
            "text/plain": [
              "<keras.callbacks.History at 0x7fd7cc2a9650>"
            ]
          },
          "execution_count": 4,
          "metadata": {},
          "output_type": "execute_result"
        }
      ],
      "source": [
        "(train_images, train_labels), _ = mnist.load_data()\n",
        "train_images = train_images.reshape((60000, 28 * 28))\n",
        "train_images = train_images.astype(\"float32\") / 255\n",
        "\n",
        "random_train_labels = train_labels[:]\n",
        "np.random.shuffle(random_train_labels)\n",
        "\n",
        "model = keras.Sequential([\n",
        "    layers.Dense(512, activation=\"relu\"),\n",
        "    layers.Dense(10, activation=\"softmax\")\n",
        "])\n",
        "model.compile(optimizer=\"rmsprop\",\n",
        "              loss=\"sparse_categorical_crossentropy\",\n",
        "              metrics=[\"accuracy\"])\n",
        "model.fit(train_images, random_train_labels,\n",
        "          epochs=100,\n",
        "          batch_size=128,\n",
        "          validation_split=0.2)"
      ]
    },
    {
      "cell_type": "markdown",
      "metadata": {
        "id": "KcKQcdA6h-y8"
      },
      "source": [
        "#### The manifold hypothesis"
      ]
    },
    {
      "cell_type": "markdown",
      "metadata": {
        "id": "yA759WQMh-zA"
      },
      "source": [
        "#### Interpolation as a source of generalization"
      ]
    },
    {
      "cell_type": "markdown",
      "metadata": {
        "id": "DtkHNEcNh-zC"
      },
      "source": [
        "#### Why deep learning works"
      ]
    },
    {
      "cell_type": "markdown",
      "metadata": {
        "id": "krG4MeLmh-zD"
      },
      "source": [
        "#### Training data is paramount"
      ]
    },
    {
      "cell_type": "markdown",
      "metadata": {
        "id": "TX7PcU1jh-zG"
      },
      "source": [
        "## Evaluating machine-learning models"
      ]
    },
    {
      "cell_type": "markdown",
      "metadata": {
        "id": "_2_n7eJRh-zH"
      },
      "source": [
        "### Training, validation, and test sets"
      ]
    },
    {
      "cell_type": "markdown",
      "metadata": {
        "id": "GT1glsrkh-zJ"
      },
      "source": [
        "#### Simple hold-out validation"
      ]
    },
    {
      "cell_type": "markdown",
      "metadata": {
        "id": "hr1xTO1ah-zL"
      },
      "source": [
        "#### K-fold validation"
      ]
    },
    {
      "cell_type": "markdown",
      "metadata": {
        "id": "vWl__zWNh-zO"
      },
      "source": [
        "#### Iterated K-fold validation with shuffling"
      ]
    },
    {
      "cell_type": "markdown",
      "metadata": {
        "id": "SRAkFDOqh-zP"
      },
      "source": [
        "### Beating a common-sense baseline"
      ]
    },
    {
      "cell_type": "markdown",
      "metadata": {
        "id": "kzTi_qlkh-zP"
      },
      "source": [
        "### Things to keep in mind about model evaluation"
      ]
    },
    {
      "cell_type": "markdown",
      "metadata": {
        "id": "po-rGELKh-zP"
      },
      "source": [
        "## Improving model fit"
      ]
    },
    {
      "cell_type": "markdown",
      "metadata": {
        "id": "miwAymETh-zQ"
      },
      "source": [
        "### Tuning key gradient descent parameters"
      ]
    },
    {
      "cell_type": "markdown",
      "metadata": {
        "id": "NY46vMmSh-zS"
      },
      "source": [
        "**Training a MNIST model with an incorrectly high learning rate**"
      ]
    },
    {
      "cell_type": "code",
      "execution_count": null,
      "metadata": {
        "colab": {
          "background_save": true,
          "base_uri": "https://localhost:8080/"
        },
        "id": "Jv4NOPAIh-zT",
        "outputId": "2ae880f9-9ae5-438d-d1ea-56322d517057"
      },
      "outputs": [
        {
          "name": "stdout",
          "output_type": "stream",
          "text": [
            "Epoch 1/10\n",
            "375/375 [==============================] - 3s 8ms/step - loss: 875.3661 - accuracy: 0.4258 - val_loss: 2.3349 - val_accuracy: 0.2213\n",
            "Epoch 2/10\n",
            "375/375 [==============================] - 3s 7ms/step - loss: 4.5534 - accuracy: 0.2659 - val_loss: 86.1877 - val_accuracy: 0.3273\n",
            "Epoch 3/10\n",
            "375/375 [==============================] - 3s 7ms/step - loss: 2.8542 - accuracy: 0.2584 - val_loss: 2.3132 - val_accuracy: 0.2124\n",
            "Epoch 4/10\n",
            "375/375 [==============================] - 3s 7ms/step - loss: 2.7185 - accuracy: 0.2282 - val_loss: 2.5829 - val_accuracy: 0.2402\n",
            "Epoch 5/10\n",
            "375/375 [==============================] - 3s 7ms/step - loss: 2.6294 - accuracy: 0.2415 - val_loss: 2.3955 - val_accuracy: 0.2578\n",
            "Epoch 6/10\n",
            "375/375 [==============================] - 3s 7ms/step - loss: 2.4121 - accuracy: 0.2572 - val_loss: 2.0480 - val_accuracy: 0.2621\n",
            "Epoch 7/10\n",
            "375/375 [==============================] - 3s 7ms/step - loss: 2.9834 - accuracy: 0.2536 - val_loss: 2.1284 - val_accuracy: 0.2249\n",
            "Epoch 8/10\n",
            "375/375 [==============================] - 3s 7ms/step - loss: 2.8252 - accuracy: 0.2978 - val_loss: 2.9174 - val_accuracy: 0.3581\n",
            "Epoch 9/10\n",
            "375/375 [==============================] - 3s 7ms/step - loss: 2.4103 - accuracy: 0.2668 - val_loss: 2.7591 - val_accuracy: 0.2793\n",
            "Epoch 10/10\n",
            "375/375 [==============================] - 3s 7ms/step - loss: 2.4403 - accuracy: 0.2817 - val_loss: 2.0718 - val_accuracy: 0.2838\n"
          ]
        },
        {
          "data": {
            "text/plain": [
              "<keras.callbacks.History at 0x7fd7c7a33b50>"
            ]
          },
          "execution_count": 5,
          "metadata": {},
          "output_type": "execute_result"
        }
      ],
      "source": [
        "(train_images, train_labels), _ = mnist.load_data()\n",
        "train_images = train_images.reshape((60000, 28 * 28))\n",
        "train_images = train_images.astype(\"float32\") / 255\n",
        "\n",
        "model = keras.Sequential([\n",
        "    layers.Dense(512, activation=\"relu\"),\n",
        "    layers.Dense(10, activation=\"softmax\")\n",
        "])\n",
        "model.compile(optimizer=keras.optimizers.RMSprop(1.),\n",
        "              loss=\"sparse_categorical_crossentropy\",\n",
        "              metrics=[\"accuracy\"])\n",
        "model.fit(train_images, train_labels,\n",
        "          epochs=10,\n",
        "          batch_size=128,\n",
        "          validation_split=0.2)"
      ]
    },
    {
      "cell_type": "markdown",
      "metadata": {
        "id": "IogbEawJh-zV"
      },
      "source": [
        "**The same model with a more appropriate learning rate**"
      ]
    },
    {
      "cell_type": "code",
      "execution_count": null,
      "metadata": {
        "id": "a31-lgLxh-zW"
      },
      "outputs": [],
      "source": [
        "model = keras.Sequential([\n",
        "    layers.Dense(512, activation=\"relu\"),\n",
        "    layers.Dense(10, activation=\"softmax\")\n",
        "])\n",
        "model.compile(optimizer=keras.optimizers.RMSprop(1e-2),\n",
        "              loss=\"sparse_categorical_crossentropy\",\n",
        "              metrics=[\"accuracy\"])\n",
        "model.fit(train_images, train_labels,\n",
        "          epochs=10,\n",
        "          batch_size=128,\n",
        "          validation_split=0.2)"
      ]
    },
    {
      "cell_type": "markdown",
      "metadata": {
        "id": "AriQzUkZh-zZ"
      },
      "source": [
        "### Leveraging better architecture priors"
      ]
    },
    {
      "cell_type": "markdown",
      "metadata": {
        "id": "_JMPUQJrh-za"
      },
      "source": [
        "### Increasing model capacity"
      ]
    },
    {
      "cell_type": "markdown",
      "metadata": {
        "id": "rv4IwoT5h-zi"
      },
      "source": [
        "**A simple logistic regression on MNIST**"
      ]
    },
    {
      "cell_type": "code",
      "execution_count": null,
      "metadata": {
        "id": "hz7gIZbLh-zk"
      },
      "outputs": [],
      "source": [
        "model = keras.Sequential([layers.Dense(10, activation=\"softmax\")])\n",
        "model.compile(optimizer=\"rmsprop\",\n",
        "              loss=\"sparse_categorical_crossentropy\",\n",
        "              metrics=[\"accuracy\"])\n",
        "history_small_model = model.fit(\n",
        "    train_images, train_labels,\n",
        "    epochs=20,\n",
        "    batch_size=128,\n",
        "    validation_split=0.2)"
      ]
    },
    {
      "cell_type": "code",
      "execution_count": null,
      "metadata": {
        "id": "A_H9CMQuh-zn"
      },
      "outputs": [],
      "source": [
        "import matplotlib.pyplot as plt\n",
        "val_loss = history_small_model.history[\"val_loss\"]\n",
        "epochs = range(1, 21)\n",
        "plt.plot(epochs, val_loss, \"b--\",\n",
        "         label=\"Validation loss\")\n",
        "plt.title(\"Effect of insufficient model capacity on validation loss\")\n",
        "plt.xlabel(\"Epochs\")\n",
        "plt.ylabel(\"Loss\")\n",
        "plt.legend()"
      ]
    },
    {
      "cell_type": "code",
      "execution_count": null,
      "metadata": {
        "id": "f4MwA5Qqh-zp"
      },
      "outputs": [],
      "source": [
        "model = keras.Sequential([\n",
        "    layers.Dense(96, activation=\"relu\"),\n",
        "    layers.Dense(96, activation=\"relu\"),\n",
        "    layers.Dense(10, activation=\"softmax\"),\n",
        "])\n",
        "model.compile(optimizer=\"rmsprop\",\n",
        "              loss=\"sparse_categorical_crossentropy\",\n",
        "              metrics=[\"accuracy\"])\n",
        "history_large_model = model.fit(\n",
        "    train_images, train_labels,\n",
        "    epochs=20,\n",
        "    batch_size=128,\n",
        "    validation_split=0.2)"
      ]
    },
    {
      "cell_type": "markdown",
      "metadata": {
        "id": "BtBcMaiWh-zu"
      },
      "source": [
        "## Improving generalization"
      ]
    },
    {
      "cell_type": "markdown",
      "metadata": {
        "id": "kJwMeWcuh-zw"
      },
      "source": [
        "### Dataset curation"
      ]
    },
    {
      "cell_type": "markdown",
      "metadata": {
        "id": "3LWgifxIh-zy"
      },
      "source": [
        "### Feature engineering"
      ]
    },
    {
      "cell_type": "markdown",
      "metadata": {
        "id": "mARlrsE5h-z1"
      },
      "source": [
        "### Using early stopping"
      ]
    },
    {
      "cell_type": "markdown",
      "metadata": {
        "id": "QKg1A6WAh-z3"
      },
      "source": [
        "### Regularizing your model"
      ]
    },
    {
      "cell_type": "markdown",
      "metadata": {
        "id": "iIGH_54Uh-z5"
      },
      "source": [
        "#### Reducing the network's size"
      ]
    },
    {
      "cell_type": "markdown",
      "metadata": {
        "id": "X0GQ37Snh-z5"
      },
      "source": [
        "**Original model**"
      ]
    },
    {
      "cell_type": "code",
      "execution_count": null,
      "metadata": {
        "id": "X4POiUyjh-z_"
      },
      "outputs": [],
      "source": [
        "from tensorflow.keras.datasets import imdb\n",
        "(train_data, train_labels), _ = imdb.load_data(num_words=10000)\n",
        "\n",
        "def vectorize_sequences(sequences, dimension=10000):\n",
        "    results = np.zeros((len(sequences), dimension))\n",
        "    for i, sequence in enumerate(sequences):\n",
        "        results[i, sequence] = 1.\n",
        "    return results\n",
        "train_data = vectorize_sequences(train_data)\n",
        "\n",
        "model = keras.Sequential([\n",
        "    layers.Dense(16, activation=\"relu\"),\n",
        "    layers.Dense(16, activation=\"relu\"),\n",
        "    layers.Dense(1, activation=\"sigmoid\")\n",
        "])\n",
        "model.compile(optimizer=\"rmsprop\",\n",
        "              loss=\"binary_crossentropy\",\n",
        "              metrics=[\"accuracy\"])\n",
        "history_original = model.fit(train_data, train_labels,\n",
        "                             epochs=20, batch_size=512, validation_split=0.4)"
      ]
    },
    {
      "cell_type": "markdown",
      "metadata": {
        "id": "4uP8KiXnh-0A"
      },
      "source": [
        "**Version of the model with lower capacity**"
      ]
    },
    {
      "cell_type": "code",
      "execution_count": null,
      "metadata": {
        "id": "CvVAUimhh-0A"
      },
      "outputs": [],
      "source": [
        "model = keras.Sequential([\n",
        "    layers.Dense(4, activation=\"relu\"),\n",
        "    layers.Dense(4, activation=\"relu\"),\n",
        "    layers.Dense(1, activation=\"sigmoid\")\n",
        "])\n",
        "model.compile(optimizer=\"rmsprop\",\n",
        "              loss=\"binary_crossentropy\",\n",
        "              metrics=[\"accuracy\"])\n",
        "history_smaller_model = model.fit(\n",
        "    train_data, train_labels,\n",
        "    epochs=20, batch_size=512, validation_split=0.4)"
      ]
    },
    {
      "cell_type": "markdown",
      "metadata": {
        "id": "IbYGAQ6th-0B"
      },
      "source": [
        "**Version of the model with higher capacity**"
      ]
    },
    {
      "cell_type": "code",
      "execution_count": null,
      "metadata": {
        "id": "Cnm_0Y8Kh-0B"
      },
      "outputs": [],
      "source": [
        "model = keras.Sequential([\n",
        "    layers.Dense(512, activation=\"relu\"),\n",
        "    layers.Dense(512, activation=\"relu\"),\n",
        "    layers.Dense(1, activation=\"sigmoid\")\n",
        "])\n",
        "model.compile(optimizer=\"rmsprop\",\n",
        "              loss=\"binary_crossentropy\",\n",
        "              metrics=[\"accuracy\"])\n",
        "history_larger_model = model.fit(\n",
        "    train_data, train_labels,\n",
        "    epochs=20, batch_size=512, validation_split=0.4)"
      ]
    },
    {
      "cell_type": "markdown",
      "metadata": {
        "id": "2C_rMUEuh-0B"
      },
      "source": [
        "#### Adding weight regularization"
      ]
    },
    {
      "cell_type": "markdown",
      "metadata": {
        "id": "7qko_cGPh-0B"
      },
      "source": [
        "**Adding L2 weight regularization to the model**"
      ]
    },
    {
      "cell_type": "code",
      "execution_count": null,
      "metadata": {
        "id": "d9UpwX9zh-0C"
      },
      "outputs": [],
      "source": [
        "from tensorflow.keras import regularizers\n",
        "model = keras.Sequential([\n",
        "    layers.Dense(16,\n",
        "                 kernel_regularizer=regularizers.l2(0.002),\n",
        "                 activation=\"relu\"),\n",
        "    layers.Dense(16,\n",
        "                 kernel_regularizer=regularizers.l2(0.002),\n",
        "                 activation=\"relu\"),\n",
        "    layers.Dense(1, activation=\"sigmoid\")\n",
        "])\n",
        "model.compile(optimizer=\"rmsprop\",\n",
        "              loss=\"binary_crossentropy\",\n",
        "              metrics=[\"accuracy\"])\n",
        "history_l2_reg = model.fit(\n",
        "    train_data, train_labels,\n",
        "    epochs=20, batch_size=512, validation_split=0.4)"
      ]
    },
    {
      "cell_type": "markdown",
      "metadata": {
        "id": "lkre8c_8h-0C"
      },
      "source": [
        "**Different weight regularizers available in Keras**"
      ]
    },
    {
      "cell_type": "code",
      "execution_count": null,
      "metadata": {
        "id": "FBgMAnOIh-0D"
      },
      "outputs": [],
      "source": [
        "from tensorflow.keras import regularizers\n",
        "regularizers.l1(0.001)\n",
        "regularizers.l1_l2(l1=0.001, l2=0.001)"
      ]
    },
    {
      "cell_type": "markdown",
      "metadata": {
        "id": "vNIJtKzgh-0F"
      },
      "source": [
        "#### Adding dropout"
      ]
    },
    {
      "cell_type": "markdown",
      "metadata": {
        "id": "wSrSEQmeh-0G"
      },
      "source": [
        "**Adding dropout to the IMDB model**"
      ]
    },
    {
      "cell_type": "code",
      "execution_count": null,
      "metadata": {
        "id": "EiFP99Tvh-0I"
      },
      "outputs": [],
      "source": [
        "model = keras.Sequential([\n",
        "    layers.Dense(16, activation=\"relu\"),\n",
        "    layers.Dropout(0.5),\n",
        "    layers.Dense(16, activation=\"relu\"),\n",
        "    layers.Dropout(0.5),\n",
        "    layers.Dense(1, activation=\"sigmoid\")\n",
        "])\n",
        "model.compile(optimizer=\"rmsprop\",\n",
        "              loss=\"binary_crossentropy\",\n",
        "              metrics=[\"accuracy\"])\n",
        "history_dropout = model.fit(\n",
        "    train_data, train_labels,\n",
        "    epochs=20, batch_size=512, validation_split=0.4)"
      ]
    },
    {
      "cell_type": "markdown",
      "metadata": {
        "id": "Q5fml5Aeh-0L"
      },
      "source": [
        "## Summary"
      ]
    }
  ],
  "metadata": {
    "colab": {
      "collapsed_sections": [],
      "toc_visible": true,
      "provenance": [],
      "include_colab_link": true
    },
    "kernelspec": {
      "display_name": "Python 3",
      "language": "python",
      "name": "python3"
    },
    "language_info": {
      "codemirror_mode": {
        "name": "ipython",
        "version": 3
      },
      "file_extension": ".py",
      "mimetype": "text/x-python",
      "name": "python",
      "nbconvert_exporter": "python",
      "pygments_lexer": "ipython3",
      "version": "3.7.0"
    }
  },
  "nbformat": 4,
  "nbformat_minor": 0
}